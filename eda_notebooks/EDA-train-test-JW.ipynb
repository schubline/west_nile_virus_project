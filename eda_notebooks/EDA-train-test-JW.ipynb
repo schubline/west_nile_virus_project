{
 "cells": [
  {
   "cell_type": "markdown",
   "metadata": {},
   "source": [
    "# EDA on training and test data (JW)\n",
    "## Table of contents\n",
    "1. EDA and description of test and training data\n",
    "2. Data exploration by category\n",
    "3. Feature engineering and analysis of engineered features\n",
    "4. Some modeling (SVM and Neural Networks -- neither outperform logistic regression)\n",
    "5. Preparation for import-and-clean.py\n",
    "6. Appendix"
   ]
  },
  {
   "cell_type": "markdown",
   "metadata": {},
   "source": [
    "## 1. EDA and description of test and training data"
   ]
  },
  {
   "cell_type": "code",
   "execution_count": 1,
   "metadata": {},
   "outputs": [
    {
     "name": "stdout",
     "output_type": "stream",
     "text": [
      "Training data shape: (10506, 12)\n",
      "Test data shape: (116293, 11)\n",
      "\n",
      "Unique rows in test.csv: 116293\n",
      "Unique rows in train.csv: 9693\n",
      "\n",
      "The test data contains eight rows for every date and every trap (one for each species category of mosquito)\n",
      "\n",
      "         Date  Trap                 Species\n",
      "0  2008-06-11  T002  CULEX PIPIENS/RESTUANS\n",
      "1  2008-06-11  T002          CULEX RESTUANS\n",
      "2  2008-06-11  T002           CULEX PIPIENS\n",
      "3  2008-06-11  T002        CULEX SALINARIUS\n",
      "4  2008-06-11  T002         CULEX TERRITANS\n",
      "5  2008-06-11  T002          CULEX TARSALIS\n",
      "6  2008-06-11  T002       UNSPECIFIED CULEX\n",
      "7  2008-06-11  T002         CULEX ERRATICUS\n",
      "\n",
      "Columns in training data:\n",
      "['Date', 'Address', 'Species', 'Block', 'Street', 'Trap', 'AddressNumberAndStreet', 'Latitude', 'Longitude', 'AddressAccuracy', 'NumMosquitos', 'WnvPresent']\n",
      "\n",
      "Unique days in training:  95\n",
      "Unique traps in training:  136\n",
      "Unique species in training:  7\n",
      "These unique combinations account for 90440 rows of the dataset.\n",
      "\n",
      "Unique days in test:  95\n",
      "Unique traps in test:  149\n",
      "Unique species in test:  8\n",
      "These unique combinations account for 113240 rows of the dataset.\n",
      "\n",
      "Unique species in test:  ['CULEX PIPIENS/RESTUANS' 'CULEX RESTUANS' 'CULEX PIPIENS'\n",
      " 'CULEX SALINARIUS' 'CULEX TERRITANS' 'CULEX TARSALIS' 'UNSPECIFIED CULEX'\n",
      " 'CULEX ERRATICUS']\n",
      "Unique species in train:  ['CULEX PIPIENS/RESTUANS' 'CULEX RESTUANS' 'CULEX PIPIENS'\n",
      " 'CULEX SALINARIUS' 'CULEX TERRITANS' 'CULEX TARSALIS' 'CULEX ERRATICUS']\n",
      "\n",
      "Counts for each species in train:\n",
      "CULEX PIPIENS/RESTUANS    4752\n",
      "CULEX RESTUANS            2740\n",
      "CULEX PIPIENS             2699\n",
      "CULEX TERRITANS            222\n",
      "CULEX SALINARIUS            86\n",
      "CULEX TARSALIS               6\n",
      "CULEX ERRATICUS              1\n",
      "Name: Species, dtype: int64\n",
      "\n",
      "In the TRAINING data:\n",
      "----------\n",
      "There are 262 cases with the mosquito CULEX PIPIENS/RESTUANS\n",
      "There are 49 cases with the mosquito CULEX RESTUANS\n",
      "There are 240 cases with the mosquito CULEX PIPIENS\n",
      "There are 0 cases with the mosquito CULEX SALINARIUS\n",
      "There are 0 cases with the mosquito CULEX TERRITANS\n",
      "There are 0 cases with the mosquito CULEX TARSALIS\n",
      "There are 0 cases with the mosquito CULEX ERRATICUS\n",
      "----------\n",
      "THERE ARE 551 TOTAL CASES IN THE TRAINING YEARS.\n",
      "----------\n",
      "There are 0 nulls in the training set and 0 in the test set.\n"
     ]
    },
    {
     "data": {
      "text/plain": [
       "<matplotlib.figure.Figure at 0x105aa1a20>"
      ]
     },
     "metadata": {},
     "output_type": "display_data"
    }
   ],
   "source": [
    "import numpy as np\n",
    "import pandas as pd\n",
    "import datetime\n",
    "import matplotlib.pyplot as plt\n",
    "import seaborn as sns\n",
    "%matplotlib inline\n",
    "\n",
    "plt.gcf().clear()\n",
    "plt.style.use('seaborn-muted')\n",
    "\n",
    "train_df = pd.read_csv('assets/input/train.csv')\n",
    "test_df = pd.read_csv('assets/input/test.csv')\n",
    "\n",
    "print(\"Training data shape:\",train_df.shape)\n",
    "print(\"Test data shape:\",test_df.shape) \n",
    "# The test set is an order of magnitude greater because there are,\n",
    "# presumably, entries for every trap, species, and day.\n",
    "\n",
    "# Dropping duplicates shows the number of unique rows. It turns out these duplicates in train are when \n",
    "# the maximum number of mosquitos is reached (50).\n",
    "print(\"\")\n",
    "print(\"Unique rows in test.csv:\",test_df.drop_duplicates().shape[0])\n",
    "print(\"Unique rows in train.csv:\",train_df.drop_duplicates().shape[0])\n",
    "print(\"\")\n",
    "print(\"The test data contains eight rows for every date and every trap (one for each species category of mosquito)\")\n",
    "print(\"\")\n",
    "print(test_df[['Date', 'Trap','Species']].head(8))\n",
    "print(\"\")\n",
    "print(\"Columns in training data:\")\n",
    "print(list(train_df.columns))\n",
    "print(\"\")\n",
    "print(\"Unique days in training: \", len(train_df.Date.unique()))\n",
    "print(\"Unique traps in training: \", len(train_df.Trap.unique()))\n",
    "print(\"Unique species in training: \", len(train_df.Species.unique()))\n",
    "print(\"These unique combinations account for {} rows of the dataset.\".format(len(train_df.Date.unique()) * len(train_df.Trap.unique())* len(train_df.Species.unique())))\n",
    "print(\"\")\n",
    "print(\"Unique days in test: \", len(test_df.Date.unique()))\n",
    "print(\"Unique traps in test: \", len(test_df.Trap.unique()))\n",
    "print(\"Unique species in test: \", len(test_df.Species.unique()))\n",
    "print(\"These unique combinations account for {} rows of the dataset.\".format(len(test_df.Date.unique()) * len(test_df.Trap.unique())* len(test_df.Species.unique())))\n",
    "print(\"\")\n",
    "print(\"Unique species in test: \",test_df.Species.unique())\n",
    "print(\"Unique species in train: \",train_df.Species.unique())\n",
    "print(\"\")\n",
    "print(\"Counts for each species in train:\")\n",
    "print(train_df['Species'].value_counts())\n",
    "print(\"\")\n",
    "print(\"In the TRAINING data:\\n----------\")\n",
    "for bug in train_df['Species'].unique():\n",
    "    print(\"There are {} cases with the mosquito {}\".format(train_df['WnvPresent'][train_df['Species']==bug].sum(), bug))\n",
    "print(\"----------\")\n",
    "print(\"THERE ARE {} TOTAL CASES IN THE TRAINING YEARS.\".format(train_df['WnvPresent'].sum()))\n",
    "print(\"----------\")\n",
    "print(\"There are {} nulls in the training set and {} in the test set.\".format(train_df.isna().sum().sum(), test_df.isna().sum().sum()))"
   ]
  },
  {
   "cell_type": "markdown",
   "metadata": {},
   "source": [
    "## 2. Exploring the data by category:"
   ]
  },
  {
   "cell_type": "markdown",
   "metadata": {},
   "source": [
    "Some species of mosquitos are responsible for the disease and others are not. While all mosquitos are  most common in August, some that cause the disease are more common in some months than other species. There is significant variability between years.  "
   ]
  },
  {
   "cell_type": "code",
   "execution_count": 2,
   "metadata": {},
   "outputs": [
    {
     "data": {
      "text/html": [
       "<div>\n",
       "<style scoped>\n",
       "    .dataframe tbody tr th:only-of-type {\n",
       "        vertical-align: middle;\n",
       "    }\n",
       "\n",
       "    .dataframe tbody tr th {\n",
       "        vertical-align: top;\n",
       "    }\n",
       "\n",
       "    .dataframe thead th {\n",
       "        text-align: right;\n",
       "    }\n",
       "</style>\n",
       "<table border=\"1\" class=\"dataframe\">\n",
       "  <thead>\n",
       "    <tr style=\"text-align: right;\">\n",
       "      <th></th>\n",
       "      <th>Species</th>\n",
       "      <th>NumMosquitos</th>\n",
       "      <th>WnvPresent</th>\n",
       "    </tr>\n",
       "  </thead>\n",
       "  <tbody>\n",
       "    <tr>\n",
       "      <th>0</th>\n",
       "      <td>CULEX ERRATICUS</td>\n",
       "      <td>7</td>\n",
       "      <td>0</td>\n",
       "    </tr>\n",
       "    <tr>\n",
       "      <th>1</th>\n",
       "      <td>CULEX PIPIENS</td>\n",
       "      <td>44671</td>\n",
       "      <td>240</td>\n",
       "    </tr>\n",
       "    <tr>\n",
       "      <th>2</th>\n",
       "      <td>CULEX PIPIENS/RESTUANS</td>\n",
       "      <td>66268</td>\n",
       "      <td>262</td>\n",
       "    </tr>\n",
       "    <tr>\n",
       "      <th>3</th>\n",
       "      <td>CULEX RESTUANS</td>\n",
       "      <td>23431</td>\n",
       "      <td>49</td>\n",
       "    </tr>\n",
       "    <tr>\n",
       "      <th>4</th>\n",
       "      <td>CULEX SALINARIUS</td>\n",
       "      <td>145</td>\n",
       "      <td>0</td>\n",
       "    </tr>\n",
       "    <tr>\n",
       "      <th>5</th>\n",
       "      <td>CULEX TARSALIS</td>\n",
       "      <td>7</td>\n",
       "      <td>0</td>\n",
       "    </tr>\n",
       "    <tr>\n",
       "      <th>6</th>\n",
       "      <td>CULEX TERRITANS</td>\n",
       "      <td>510</td>\n",
       "      <td>0</td>\n",
       "    </tr>\n",
       "  </tbody>\n",
       "</table>\n",
       "</div>"
      ],
      "text/plain": [
       "                  Species  NumMosquitos  WnvPresent\n",
       "0         CULEX ERRATICUS             7           0\n",
       "1           CULEX PIPIENS         44671         240\n",
       "2  CULEX PIPIENS/RESTUANS         66268         262\n",
       "3          CULEX RESTUANS         23431          49\n",
       "4        CULEX SALINARIUS           145           0\n",
       "5          CULEX TARSALIS             7           0\n",
       "6         CULEX TERRITANS           510           0"
      ]
     },
     "execution_count": 2,
     "metadata": {},
     "output_type": "execute_result"
    }
   ],
   "source": [
    "dfa = train_df\n",
    "dfa = pd.DataFrame(dfa.groupby(by = 'Species').sum().reset_index()[['Species','NumMosquitos','WnvPresent']])\n",
    "dfa"
   ]
  },
  {
   "cell_type": "code",
   "execution_count": 3,
   "metadata": {},
   "outputs": [
    {
     "data": {
      "text/plain": [
       "<matplotlib.figure.Figure at 0x1050fc208>"
      ]
     },
     "metadata": {},
     "output_type": "display_data"
    },
    {
     "data": {
      "image/png": "[encoded data removed]",
      "text/plain": [
       "<matplotlib.figure.Figure at 0x1047e6860>"
      ]
     },
     "metadata": {},
     "output_type": "display_data"
    }
   ],
   "source": [
    "dfa = train_df\n",
    "dfa['Date'] = pd.to_datetime(dfa['Date'])\n",
    "dfa['Month'] = dfa['Date'].dt.month\n",
    "dfa['Year'] = dfa['Date'].dt.month\n",
    "dfa = pd.DataFrame(dfa.groupby(by = 'Month').sum().reset_index()[['Month','NumMosquitos','WnvPresent']])\n",
    "### I couldn't order the columns, so it's not worth it to transform them here; best to do it in the plotting\n",
    "# dfa['Month'] = dfa['Month'].map({5:'May', 6:'June', 7:'July', 8:'August', 9:'September', 10:'October'})\n",
    "\n",
    "plt.gcf().clear()\n",
    "plt.style.use('seaborn-deep')\n",
    "\n",
    "plt.figure(figsize=(10,10))\n",
    "plt.bar(dfa['Month'], dfa['WnvPresent'], color = '#7BC576', edgecolor = 'none', align = 'center')\n",
    "plt.title('Cases by month',fontsize = 30)\n",
    "plt.ylim((0,400))\n",
    "plt.xlim((4,11))\n",
    "plt.xlabel('')\n",
    "plt.ylabel('West Nile infected mosquitos (count)', fontsize = 25)\n",
    "plt.xticks([5,6,7,8,9,10],['May', 'Jun', 'Jul', 'Aug', 'Sep', 'Oct'], fontsize = 25, rotation = 30)\n",
    "plt.savefig(\"assets/visualizations/casesbymonth.png\")"
   ]
  },
  {
   "cell_type": "code",
   "execution_count": 4,
   "metadata": {},
   "outputs": [
    {
     "data": {
      "text/plain": [
       "<matplotlib.figure.Figure at 0x107e37a20>"
      ]
     },
     "metadata": {},
     "output_type": "display_data"
    },
    {
     "data": {
      "image/png": "[encoded data removed]",
      "text/plain": [
       "<matplotlib.figure.Figure at 0x107e37e48>"
      ]
     },
     "metadata": {},
     "output_type": "display_data"
    }
   ],
   "source": [
    "dfa = train_df\n",
    "dfa['Date'] = pd.to_datetime(dfa['Date'])\n",
    "dfa['Month'] = dfa['Date'].dt.month\n",
    "dfa['Year'] = dfa['Date'].dt.year\n",
    "dfa = dfa[dfa['Year'] == 2007]\n",
    "dfa = pd.DataFrame(dfa.groupby(by = 'Month').sum().reset_index()[['Month','NumMosquitos','WnvPresent']])\n",
    "\n",
    "plt.gcf().clear()\n",
    "plt.style.use('seaborn-deep')\n",
    "\n",
    "plt.figure(figsize=(10,10))\n",
    "plt.bar(dfa['Month'], dfa['WnvPresent'], color = '#7BC576', edgecolor = 'none', align = 'center')\n",
    "plt.title('2007', fontsize = 30)\n",
    "plt.xlabel('')\n",
    "plt.ylabel('West Nile infected mosquitos (count)', fontsize = 25)\n",
    "plt.ylim((0,225))\n",
    "plt.xlim((4,11))\n",
    "plt.xticks([5,6,7,8,9,10],['May', 'Jun', 'Jul', 'Aug', 'Sep', 'Oct'], fontsize = 25, rotation = 30)\n",
    "plt.savefig(\"assets/visualizations/casesbymonth2007.png\")"
   ]
  },
  {
   "cell_type": "code",
   "execution_count": 5,
   "metadata": {},
   "outputs": [
    {
     "data": {
      "text/plain": [
       "<matplotlib.figure.Figure at 0x107e37ac8>"
      ]
     },
     "metadata": {},
     "output_type": "display_data"
    },
    {
     "data": {
      "image/png": "[encoded data removed]",
      "text/plain": [
       "<matplotlib.figure.Figure at 0x107ed1358>"
      ]
     },
     "metadata": {},
     "output_type": "display_data"
    }
   ],
   "source": [
    "dfa = train_df\n",
    "dfa['Date'] = pd.to_datetime(dfa['Date'])\n",
    "dfa['Month'] = dfa['Date'].dt.month\n",
    "dfa['Year'] = dfa['Date'].dt.year\n",
    "dfa = dfa[dfa['Year'] == 2009]\n",
    "dfa = pd.DataFrame(dfa.groupby(by = 'Month').sum().reset_index()[['Month','NumMosquitos','WnvPresent']])\n",
    "\n",
    "plt.gcf().clear()\n",
    "plt.style.use('seaborn-deep')\n",
    "\n",
    "plt.figure(figsize=(10,10))\n",
    "plt.bar(dfa['Month'], dfa['WnvPresent'], color = '#7BC576', edgecolor = 'none', align = 'center')\n",
    "plt.title('2009', fontsize = 30)\n",
    "plt.xlabel('')\n",
    "plt.ylabel('West Nile infected mosquitos (count)', fontsize = 25)\n",
    "plt.ylim((0,225))\n",
    "plt.xlim((4,11))\n",
    "plt.xticks([5,6,7,8,9,10],['May', 'Jun', 'Jul', 'Aug', 'Sep', 'Oct'], fontsize = 25, rotation = 30)\n",
    "plt.savefig(\"assets/visualizations/casesbymonth2009.png\")"
   ]
  },
  {
   "cell_type": "code",
   "execution_count": 6,
   "metadata": {},
   "outputs": [
    {
     "data": {
      "text/plain": [
       "<matplotlib.figure.Figure at 0x107e7a390>"
      ]
     },
     "metadata": {},
     "output_type": "display_data"
    },
    {
     "data": {
      "image/png": "[encoded data removed]",
      "text/plain": [
       "<matplotlib.figure.Figure at 0x107ed1438>"
      ]
     },
     "metadata": {},
     "output_type": "display_data"
    }
   ],
   "source": [
    "dfa = train_df\n",
    "dfa['Date'] = pd.to_datetime(dfa['Date'])\n",
    "dfa['Month'] = dfa['Date'].dt.month\n",
    "dfa['Year'] = dfa['Date'].dt.year\n",
    "dfa = dfa[dfa['Year'] == 2011]\n",
    "dfa = pd.DataFrame(dfa.groupby(by = 'Month').sum().reset_index()[['Month','NumMosquitos','WnvPresent']])\n",
    "\n",
    "plt.gcf().clear()\n",
    "plt.style.use('seaborn-deep')\n",
    "\n",
    "plt.figure(figsize=(10,10))\n",
    "plt.bar(dfa['Month'], dfa['WnvPresent'], color = '#7BC576', edgecolor = 'none', align = 'center')\n",
    "plt.title('2011', fontsize = 30)\n",
    "plt.xlabel('')\n",
    "plt.ylabel('West Nile infected mosquitos (count)', fontsize = 25)\n",
    "plt.ylim((0,225))\n",
    "plt.xlim((4,11))\n",
    "plt.xticks([5,6,7,8,9,10],['May', 'Jun', 'Jul', 'Aug', 'Sep', 'Oct'], fontsize = 25, rotation = 30)\n",
    "plt.savefig(\"assets/visualizations/casesbymonth2011.png\")"
   ]
  },
  {
   "cell_type": "code",
   "execution_count": 7,
   "metadata": {},
   "outputs": [
    {
     "data": {
      "text/plain": [
       "<matplotlib.figure.Figure at 0x107e5c208>"
      ]
     },
     "metadata": {},
     "output_type": "display_data"
    },
    {
     "data": {
      "image/png": "[encoded data removed]",
      "text/plain": [
       "<matplotlib.figure.Figure at 0x107e95dd8>"
      ]
     },
     "metadata": {},
     "output_type": "display_data"
    }
   ],
   "source": [
    "dfa = train_df\n",
    "dfa['Date'] = pd.to_datetime(dfa['Date'])\n",
    "dfa['Month'] = dfa['Date'].dt.month\n",
    "dfa['Year'] = dfa['Date'].dt.year\n",
    "dfa = dfa[dfa['Year'] == 2013]\n",
    "dfa = pd.DataFrame(dfa.groupby(by = 'Month').sum().reset_index()[['Month','NumMosquitos','WnvPresent']])\n",
    "\n",
    "plt.gcf().clear()\n",
    "plt.style.use('seaborn-deep')\n",
    "\n",
    "plt.figure(figsize=(10,10))\n",
    "plt.bar(dfa['Month'], dfa['WnvPresent'], color = '#7BC576', edgecolor = 'none', align = 'center')\n",
    "plt.title('2013', fontsize = 30)\n",
    "plt.xlabel('')\n",
    "plt.ylabel('West Nile infected mosquitos (count)', fontsize = 25)\n",
    "plt.ylim((0,225))\n",
    "plt.xlim((4,11))\n",
    "plt.xticks([5,6,7,8,9,10],['May', 'Jun', 'Jul', 'Aug', 'Sep', 'Oct'], fontsize = 25, rotation = 30)\n",
    "plt.savefig(\"assets/visualizations/casesbymonth2013.png\")"
   ]
  },
  {
   "cell_type": "code",
   "execution_count": 8,
   "metadata": {},
   "outputs": [
    {
     "data": {
      "text/plain": [
       "<matplotlib.figure.Figure at 0x107e37630>"
      ]
     },
     "metadata": {},
     "output_type": "display_data"
    },
    {
     "data": {
      "image/png": "[encoded data removed]",
      "text/plain": [
       "<matplotlib.figure.Figure at 0x110520358>"
      ]
     },
     "metadata": {},
     "output_type": "display_data"
    }
   ],
   "source": [
    "dfa = train_df\n",
    "dfa['Date'] = pd.to_datetime(dfa['Date'])\n",
    "dfa['Month'] = dfa['Date'].dt.month\n",
    "dfa['Year'] = dfa['Date'].dt.year\n",
    "dfa = pd.DataFrame(dfa.groupby(by = 'Year').sum().reset_index()[['Year','NumMosquitos','WnvPresent']])\n",
    "\n",
    "\n",
    "plt.gcf().clear()\n",
    "plt.style.use('seaborn-deep')\n",
    "\n",
    "plt.figure(figsize=(10,10))\n",
    "plt.bar(dfa['Year'], dfa['WnvPresent'], color = '#7BC576', edgecolor = 'none', align = 'center')\n",
    "plt.title('Cases by year', fontsize = 30)\n",
    "plt.xlabel('')\n",
    "plt.ylabel('West Nile infected mosquitos (count)', fontsize = 25)\n",
    "\n",
    "plt.xticks([2007,2008,2009,2010,2011,2012,2013],['2007','2008','2009','2010','2011','2012','2013'],fontsize = 25, rotation = 30)\n",
    "plt.savefig(\"assets/visualizations/casesbyyear.png\")"
   ]
  },
  {
   "cell_type": "markdown",
   "metadata": {},
   "source": [
    "### Grouped by trap:"
   ]
  },
  {
   "cell_type": "code",
   "execution_count": 9,
   "metadata": {},
   "outputs": [],
   "source": [
    "dfa = train_df\n",
    "dfa['Date'] = pd.to_datetime(dfa['Date'])\n",
    "dfa['Month'] = dfa['Date'].dt.month\n",
    "dfa['Year'] = dfa['Date'].dt.year\n",
    "dfa = pd.DataFrame(dfa.groupby(by = ['Trap','Latitude','Longitude']).sum().reset_index().sort_values('WnvPresent', ascending = False)[['Trap','NumMosquitos','WnvPresent','Latitude','Longitude']])\n",
    "dfa.to_csv('assets/groupedtrapdata.csv')"
   ]
  },
  {
   "cell_type": "code",
   "execution_count": 10,
   "metadata": {},
   "outputs": [
    {
     "data": {
      "text/plain": [
       "(138, 5)"
      ]
     },
     "execution_count": 10,
     "metadata": {},
     "output_type": "execute_result"
    }
   ],
   "source": [
    "dfa.shape"
   ]
  },
  {
   "cell_type": "code",
   "execution_count": 11,
   "metadata": {},
   "outputs": [
    {
     "name": "stdout",
     "output_type": "stream",
     "text": [
      "The top traps are responsible for many of the 551 total cases.\n"
     ]
    },
    {
     "data": {
      "text/html": [
       "<div>\n",
       "<style scoped>\n",
       "    .dataframe tbody tr th:only-of-type {\n",
       "        vertical-align: middle;\n",
       "    }\n",
       "\n",
       "    .dataframe tbody tr th {\n",
       "        vertical-align: top;\n",
       "    }\n",
       "\n",
       "    .dataframe thead th {\n",
       "        text-align: right;\n",
       "    }\n",
       "</style>\n",
       "<table border=\"1\" class=\"dataframe\">\n",
       "  <thead>\n",
       "    <tr style=\"text-align: right;\">\n",
       "      <th></th>\n",
       "      <th>Trap</th>\n",
       "      <th>NumMosquitos</th>\n",
       "      <th>WnvPresent</th>\n",
       "      <th>Latitude</th>\n",
       "      <th>Longitude</th>\n",
       "    </tr>\n",
       "  </thead>\n",
       "  <tbody>\n",
       "    <tr>\n",
       "      <th>136</th>\n",
       "      <td>T900</td>\n",
       "      <td>15386</td>\n",
       "      <td>66</td>\n",
       "      <td>41.974689</td>\n",
       "      <td>-87.890615</td>\n",
       "    </tr>\n",
       "    <tr>\n",
       "      <th>84</th>\n",
       "      <td>T115</td>\n",
       "      <td>21668</td>\n",
       "      <td>41</td>\n",
       "      <td>41.673408</td>\n",
       "      <td>-87.599862</td>\n",
       "    </tr>\n",
       "    <tr>\n",
       "      <th>1</th>\n",
       "      <td>T002</td>\n",
       "      <td>3710</td>\n",
       "      <td>18</td>\n",
       "      <td>41.954690</td>\n",
       "      <td>-87.800991</td>\n",
       "    </tr>\n",
       "    <tr>\n",
       "      <th>88</th>\n",
       "      <td>T138</td>\n",
       "      <td>9936</td>\n",
       "      <td>16</td>\n",
       "      <td>41.726465</td>\n",
       "      <td>-87.585413</td>\n",
       "    </tr>\n",
       "    <tr>\n",
       "      <th>2</th>\n",
       "      <td>T003</td>\n",
       "      <td>1346</td>\n",
       "      <td>14</td>\n",
       "      <td>41.964242</td>\n",
       "      <td>-87.757639</td>\n",
       "    </tr>\n",
       "  </tbody>\n",
       "</table>\n",
       "</div>"
      ],
      "text/plain": [
       "     Trap  NumMosquitos  WnvPresent   Latitude  Longitude\n",
       "136  T900         15386          66  41.974689 -87.890615\n",
       "84   T115         21668          41  41.673408 -87.599862\n",
       "1    T002          3710          18  41.954690 -87.800991\n",
       "88   T138          9936          16  41.726465 -87.585413\n",
       "2    T003          1346          14  41.964242 -87.757639"
      ]
     },
     "execution_count": 11,
     "metadata": {},
     "output_type": "execute_result"
    }
   ],
   "source": [
    "print(\"The top traps are responsible for many of the 551 total cases.\")\n",
    "dfa.head()"
   ]
  },
  {
   "cell_type": "code",
   "execution_count": 12,
   "metadata": {},
   "outputs": [
    {
     "data": {
      "text/html": [
       "<div>\n",
       "<style scoped>\n",
       "    .dataframe tbody tr th:only-of-type {\n",
       "        vertical-align: middle;\n",
       "    }\n",
       "\n",
       "    .dataframe tbody tr th {\n",
       "        vertical-align: top;\n",
       "    }\n",
       "\n",
       "    .dataframe thead th {\n",
       "        text-align: right;\n",
       "    }\n",
       "</style>\n",
       "<table border=\"1\" class=\"dataframe\">\n",
       "  <thead>\n",
       "    <tr style=\"text-align: right;\">\n",
       "      <th></th>\n",
       "      <th>Trap</th>\n",
       "      <th>NumMosquitos</th>\n",
       "      <th>WnvPresent</th>\n",
       "      <th>Latitude</th>\n",
       "      <th>Longitude</th>\n",
       "    </tr>\n",
       "  </thead>\n",
       "  <tbody>\n",
       "    <tr>\n",
       "      <th>97</th>\n",
       "      <td>T149</td>\n",
       "      <td>15</td>\n",
       "      <td>0</td>\n",
       "      <td>41.994469</td>\n",
       "      <td>-87.667736</td>\n",
       "    </tr>\n",
       "    <tr>\n",
       "      <th>98</th>\n",
       "      <td>T150</td>\n",
       "      <td>56</td>\n",
       "      <td>0</td>\n",
       "      <td>42.006858</td>\n",
       "      <td>-87.675919</td>\n",
       "    </tr>\n",
       "    <tr>\n",
       "      <th>101</th>\n",
       "      <td>T153</td>\n",
       "      <td>256</td>\n",
       "      <td>0</td>\n",
       "      <td>41.907645</td>\n",
       "      <td>-87.760886</td>\n",
       "    </tr>\n",
       "    <tr>\n",
       "      <th>105</th>\n",
       "      <td>T157</td>\n",
       "      <td>47</td>\n",
       "      <td>0</td>\n",
       "      <td>41.825902</td>\n",
       "      <td>-87.667827</td>\n",
       "    </tr>\n",
       "    <tr>\n",
       "      <th>0</th>\n",
       "      <td>T001</td>\n",
       "      <td>25</td>\n",
       "      <td>0</td>\n",
       "      <td>41.953705</td>\n",
       "      <td>-87.733974</td>\n",
       "    </tr>\n",
       "  </tbody>\n",
       "</table>\n",
       "</div>"
      ],
      "text/plain": [
       "     Trap  NumMosquitos  WnvPresent   Latitude  Longitude\n",
       "97   T149            15           0  41.994469 -87.667736\n",
       "98   T150            56           0  42.006858 -87.675919\n",
       "101  T153           256           0  41.907645 -87.760886\n",
       "105  T157            47           0  41.825902 -87.667827\n",
       "0    T001            25           0  41.953705 -87.733974"
      ]
     },
     "execution_count": 12,
     "metadata": {},
     "output_type": "execute_result"
    }
   ],
   "source": [
    "dfa.tail()"
   ]
  },
  {
   "cell_type": "code",
   "execution_count": 13,
   "metadata": {},
   "outputs": [
    {
     "name": "stdout",
     "output_type": "stream",
     "text": [
      "There are 39 traps that never had infections in the training set.\n"
     ]
    },
    {
     "data": {
      "text/plain": [
       "(39, 5)"
      ]
     },
     "execution_count": 13,
     "metadata": {},
     "output_type": "execute_result"
    }
   ],
   "source": [
    "print(\"There are 39 traps that never had infections in the training set.\")\n",
    "dfa[dfa['WnvPresent'] == 0].shape"
   ]
  },
  {
   "cell_type": "markdown",
   "metadata": {},
   "source": [
    "The data in these plots is better shown in the Tableau file in the presentation."
   ]
  },
  {
   "cell_type": "code",
   "execution_count": 14,
   "metadata": {},
   "outputs": [
    {
     "data": {
      "image/png": "[encoded data removed]",
      "text/plain": [
       "<matplotlib.figure.Figure at 0x1104de358>"
      ]
     },
     "metadata": {},
     "output_type": "display_data"
    }
   ],
   "source": [
    "plt.figure(figsize=(10,10))\n",
    "plt.bar(dfa['Trap'].map(lambda x: int(x[1:].replace('C',\"\").replace('A',\"\").replace('B',''))), dfa['WnvPresent'])\n",
    "plt.title('Cases by trap')\n",
    "plt.xlabel('Trap (number)')\n",
    "plt.ylabel('West Nile infected mosquitos')\n",
    "plt.savefig(\"assets/visualizations/casesbytrap1.png\")"
   ]
  },
  {
   "cell_type": "code",
   "execution_count": 15,
   "metadata": {},
   "outputs": [
    {
     "data": {
      "text/plain": [
       "<matplotlib.figure.Figure at 0x1111d7f98>"
      ]
     },
     "metadata": {},
     "output_type": "display_data"
    },
    {
     "data": {
      "image/png": "[encoded data removed]",
      "text/plain": [
       "<matplotlib.figure.Figure at 0x1105a4e48>"
      ]
     },
     "metadata": {},
     "output_type": "display_data"
    }
   ],
   "source": [
    "plt.gcf().clear()\n",
    "plt.style.use('seaborn-deep')\n",
    "\n",
    "plt.figure(figsize=(10,10))\n",
    "plt.bar(dfa.index, dfa['WnvPresent'], color = '#7BC576', edgecolor = 'none', align = 'center')\n",
    "plt.title('Cases by trap', fontsize = 40)\n",
    "plt.xlabel('Trap (index)', fontsize = 30)\n",
    "plt.ylabel('West Nile infected mosquitos (total count)', fontsize = 30 )\n",
    "plt.xticks([],[])\n",
    "plt.xlim((-1,max(dfa.index)+1))\n",
    "plt.savefig(\"assets/visualizations/casesbytrap2.png\")"
   ]
  },
  {
   "cell_type": "code",
   "execution_count": 16,
   "metadata": {},
   "outputs": [
    {
     "data": {
      "image/png": "[encoded data removed]",
      "text/plain": [
       "<matplotlib.figure.Figure at 0x103aaa588>"
      ]
     },
     "metadata": {},
     "output_type": "display_data"
    }
   ],
   "source": [
    "plt.figure(figsize=(10,10))\n",
    "sns.regplot(dfa['NumMosquitos'], dfa['WnvPresent'], color = '#7BC576', scatter_kws = {'alpha' : 0.5})\n",
    "plt.xlim((-500,25000))\n",
    "plt.ylim((-1,70))\n",
    "# plt.title('Mosquitos vs. WN+ count\\nGrouped by Trap', fontsize = 40)\n",
    "plt.xlabel('Number of Mosquitos (count)', fontsize = 30)\n",
    "plt.ylabel('WN+ Mosquitos (count)', fontsize = 30 )\n",
    "plt.savefig('assets/visualizations/trap_nummos_wnv.png')"
   ]
  },
  {
   "cell_type": "markdown",
   "metadata": {},
   "source": [
    "## 3. Feature Engineering and analysis of engineered features\n",
    "### Fixing the 'Species' column\n",
    "Since the only *Culex* that *can* carry West Nile are *pipiens* and *restuans*, the other irrelevant mosquitos can be grouped together and dummies generated on those new groupings."
   ]
  },
  {
   "cell_type": "code",
   "execution_count": 17,
   "metadata": {},
   "outputs": [],
   "source": [
    "train_df['Species'] = train_df['Species'].map(lambda x: \"OTHER\" if ((x != 'CULEX PIPIENS/RESTUANS') & (x != 'CULEX RESTUANS') & (x != 'CULEX PIPIENS')) else x)"
   ]
  },
  {
   "cell_type": "code",
   "execution_count": 18,
   "metadata": {},
   "outputs": [
    {
     "name": "stdout",
     "output_type": "stream",
     "text": [
      "Count for modified species in train:\n",
      "CULEX PIPIENS/RESTUANS    4752\n",
      "CULEX RESTUANS            2740\n",
      "CULEX PIPIENS             2699\n",
      "OTHER                      315\n",
      "Name: Species, dtype: int64\n"
     ]
    }
   ],
   "source": [
    "print('Count for modified species in train:')\n",
    "print(train_df['Species'].value_counts())"
   ]
  },
  {
   "cell_type": "code",
   "execution_count": 19,
   "metadata": {},
   "outputs": [],
   "source": [
    "#  Generating dummies\n",
    "train_df = pd.get_dummies(train_df, columns=['Species'])"
   ]
  },
  {
   "cell_type": "code",
   "execution_count": 20,
   "metadata": {},
   "outputs": [
    {
     "data": {
      "text/html": [
       "<div>\n",
       "<style scoped>\n",
       "    .dataframe tbody tr th:only-of-type {\n",
       "        vertical-align: middle;\n",
       "    }\n",
       "\n",
       "    .dataframe tbody tr th {\n",
       "        vertical-align: top;\n",
       "    }\n",
       "\n",
       "    .dataframe thead th {\n",
       "        text-align: right;\n",
       "    }\n",
       "</style>\n",
       "<table border=\"1\" class=\"dataframe\">\n",
       "  <thead>\n",
       "    <tr style=\"text-align: right;\">\n",
       "      <th></th>\n",
       "      <th>Date</th>\n",
       "      <th>Address</th>\n",
       "      <th>Block</th>\n",
       "      <th>Street</th>\n",
       "      <th>Trap</th>\n",
       "      <th>AddressNumberAndStreet</th>\n",
       "      <th>Latitude</th>\n",
       "      <th>Longitude</th>\n",
       "      <th>AddressAccuracy</th>\n",
       "      <th>NumMosquitos</th>\n",
       "      <th>WnvPresent</th>\n",
       "      <th>Month</th>\n",
       "      <th>Year</th>\n",
       "      <th>Species_CULEX PIPIENS</th>\n",
       "      <th>Species_CULEX PIPIENS/RESTUANS</th>\n",
       "      <th>Species_CULEX RESTUANS</th>\n",
       "      <th>Species_OTHER</th>\n",
       "    </tr>\n",
       "  </thead>\n",
       "  <tbody>\n",
       "    <tr>\n",
       "      <th>0</th>\n",
       "      <td>2007-05-29</td>\n",
       "      <td>4100 North Oak Park Avenue, Chicago, IL 60634,...</td>\n",
       "      <td>41</td>\n",
       "      <td>N OAK PARK AVE</td>\n",
       "      <td>T002</td>\n",
       "      <td>4100  N OAK PARK AVE, Chicago, IL</td>\n",
       "      <td>41.95469</td>\n",
       "      <td>-87.800991</td>\n",
       "      <td>9</td>\n",
       "      <td>1</td>\n",
       "      <td>0</td>\n",
       "      <td>5</td>\n",
       "      <td>2007</td>\n",
       "      <td>0</td>\n",
       "      <td>1</td>\n",
       "      <td>0</td>\n",
       "      <td>0</td>\n",
       "    </tr>\n",
       "    <tr>\n",
       "      <th>1</th>\n",
       "      <td>2007-05-29</td>\n",
       "      <td>4100 North Oak Park Avenue, Chicago, IL 60634,...</td>\n",
       "      <td>41</td>\n",
       "      <td>N OAK PARK AVE</td>\n",
       "      <td>T002</td>\n",
       "      <td>4100  N OAK PARK AVE, Chicago, IL</td>\n",
       "      <td>41.95469</td>\n",
       "      <td>-87.800991</td>\n",
       "      <td>9</td>\n",
       "      <td>1</td>\n",
       "      <td>0</td>\n",
       "      <td>5</td>\n",
       "      <td>2007</td>\n",
       "      <td>0</td>\n",
       "      <td>0</td>\n",
       "      <td>1</td>\n",
       "      <td>0</td>\n",
       "    </tr>\n",
       "  </tbody>\n",
       "</table>\n",
       "</div>"
      ],
      "text/plain": [
       "        Date                                            Address  Block  \\\n",
       "0 2007-05-29  4100 North Oak Park Avenue, Chicago, IL 60634,...     41   \n",
       "1 2007-05-29  4100 North Oak Park Avenue, Chicago, IL 60634,...     41   \n",
       "\n",
       "            Street  Trap             AddressNumberAndStreet  Latitude  \\\n",
       "0   N OAK PARK AVE  T002  4100  N OAK PARK AVE, Chicago, IL  41.95469   \n",
       "1   N OAK PARK AVE  T002  4100  N OAK PARK AVE, Chicago, IL  41.95469   \n",
       "\n",
       "   Longitude  AddressAccuracy  NumMosquitos  WnvPresent  Month  Year  \\\n",
       "0 -87.800991                9             1           0      5  2007   \n",
       "1 -87.800991                9             1           0      5  2007   \n",
       "\n",
       "   Species_CULEX PIPIENS  Species_CULEX PIPIENS/RESTUANS  \\\n",
       "0                      0                               1   \n",
       "1                      0                               0   \n",
       "\n",
       "   Species_CULEX RESTUANS  Species_OTHER  \n",
       "0                       0              0  \n",
       "1                       1              0  "
      ]
     },
     "execution_count": 20,
     "metadata": {},
     "output_type": "execute_result"
    }
   ],
   "source": [
    "train_df.head(2)"
   ]
  },
  {
   "cell_type": "code",
   "execution_count": 21,
   "metadata": {},
   "outputs": [],
   "source": [
    "# Since 'OTHER' is the irrelevant kind of mosquito it makes the most sense to drop it. The cleaning scripts do this.\n",
    "# train_df.drop(labels = ['Species_OTHER'],  axis = 1, inplace=True)"
   ]
  },
  {
   "cell_type": "code",
   "execution_count": 22,
   "metadata": {},
   "outputs": [
    {
     "data": {
      "text/html": [
       "<div>\n",
       "<style scoped>\n",
       "    .dataframe tbody tr th:only-of-type {\n",
       "        vertical-align: middle;\n",
       "    }\n",
       "\n",
       "    .dataframe tbody tr th {\n",
       "        vertical-align: top;\n",
       "    }\n",
       "\n",
       "    .dataframe thead th {\n",
       "        text-align: right;\n",
       "    }\n",
       "</style>\n",
       "<table border=\"1\" class=\"dataframe\">\n",
       "  <thead>\n",
       "    <tr style=\"text-align: right;\">\n",
       "      <th></th>\n",
       "      <th>Date</th>\n",
       "      <th>Address</th>\n",
       "      <th>Block</th>\n",
       "      <th>Street</th>\n",
       "      <th>Trap</th>\n",
       "      <th>AddressNumberAndStreet</th>\n",
       "      <th>Latitude</th>\n",
       "      <th>Longitude</th>\n",
       "      <th>AddressAccuracy</th>\n",
       "      <th>NumMosquitos</th>\n",
       "      <th>WnvPresent</th>\n",
       "      <th>Month</th>\n",
       "      <th>Year</th>\n",
       "      <th>Species_CULEX PIPIENS</th>\n",
       "      <th>Species_CULEX PIPIENS/RESTUANS</th>\n",
       "      <th>Species_CULEX RESTUANS</th>\n",
       "      <th>Species_OTHER</th>\n",
       "    </tr>\n",
       "  </thead>\n",
       "  <tbody>\n",
       "    <tr>\n",
       "      <th>0</th>\n",
       "      <td>2007-05-29</td>\n",
       "      <td>4100 North Oak Park Avenue, Chicago, IL 60634,...</td>\n",
       "      <td>41</td>\n",
       "      <td>N OAK PARK AVE</td>\n",
       "      <td>T002</td>\n",
       "      <td>4100  N OAK PARK AVE, Chicago, IL</td>\n",
       "      <td>41.95469</td>\n",
       "      <td>-87.800991</td>\n",
       "      <td>9</td>\n",
       "      <td>1</td>\n",
       "      <td>0</td>\n",
       "      <td>5</td>\n",
       "      <td>2007</td>\n",
       "      <td>0</td>\n",
       "      <td>1</td>\n",
       "      <td>0</td>\n",
       "      <td>0</td>\n",
       "    </tr>\n",
       "    <tr>\n",
       "      <th>1</th>\n",
       "      <td>2007-05-29</td>\n",
       "      <td>4100 North Oak Park Avenue, Chicago, IL 60634,...</td>\n",
       "      <td>41</td>\n",
       "      <td>N OAK PARK AVE</td>\n",
       "      <td>T002</td>\n",
       "      <td>4100  N OAK PARK AVE, Chicago, IL</td>\n",
       "      <td>41.95469</td>\n",
       "      <td>-87.800991</td>\n",
       "      <td>9</td>\n",
       "      <td>1</td>\n",
       "      <td>0</td>\n",
       "      <td>5</td>\n",
       "      <td>2007</td>\n",
       "      <td>0</td>\n",
       "      <td>0</td>\n",
       "      <td>1</td>\n",
       "      <td>0</td>\n",
       "    </tr>\n",
       "  </tbody>\n",
       "</table>\n",
       "</div>"
      ],
      "text/plain": [
       "        Date                                            Address  Block  \\\n",
       "0 2007-05-29  4100 North Oak Park Avenue, Chicago, IL 60634,...     41   \n",
       "1 2007-05-29  4100 North Oak Park Avenue, Chicago, IL 60634,...     41   \n",
       "\n",
       "            Street  Trap             AddressNumberAndStreet  Latitude  \\\n",
       "0   N OAK PARK AVE  T002  4100  N OAK PARK AVE, Chicago, IL  41.95469   \n",
       "1   N OAK PARK AVE  T002  4100  N OAK PARK AVE, Chicago, IL  41.95469   \n",
       "\n",
       "   Longitude  AddressAccuracy  NumMosquitos  WnvPresent  Month  Year  \\\n",
       "0 -87.800991                9             1           0      5  2007   \n",
       "1 -87.800991                9             1           0      5  2007   \n",
       "\n",
       "   Species_CULEX PIPIENS  Species_CULEX PIPIENS/RESTUANS  \\\n",
       "0                      0                               1   \n",
       "1                      0                               0   \n",
       "\n",
       "   Species_CULEX RESTUANS  Species_OTHER  \n",
       "0                       0              0  \n",
       "1                       1              0  "
      ]
     },
     "execution_count": 22,
     "metadata": {},
     "output_type": "execute_result"
    }
   ],
   "source": [
    "train_df.head(2)"
   ]
  },
  {
   "cell_type": "code",
   "execution_count": 23,
   "metadata": {},
   "outputs": [
    {
     "data": {
      "text/html": [
       "<div>\n",
       "<style scoped>\n",
       "    .dataframe tbody tr th:only-of-type {\n",
       "        vertical-align: middle;\n",
       "    }\n",
       "\n",
       "    .dataframe tbody tr th {\n",
       "        vertical-align: top;\n",
       "    }\n",
       "\n",
       "    .dataframe thead th {\n",
       "        text-align: right;\n",
       "    }\n",
       "</style>\n",
       "<table border=\"1\" class=\"dataframe\">\n",
       "  <thead>\n",
       "    <tr style=\"text-align: right;\">\n",
       "      <th></th>\n",
       "      <th>Block</th>\n",
       "      <th>Latitude</th>\n",
       "      <th>Longitude</th>\n",
       "      <th>AddressAccuracy</th>\n",
       "      <th>NumMosquitos</th>\n",
       "      <th>WnvPresent</th>\n",
       "      <th>Year</th>\n",
       "      <th>Species_CULEX PIPIENS</th>\n",
       "      <th>Species_CULEX PIPIENS/RESTUANS</th>\n",
       "      <th>Species_CULEX RESTUANS</th>\n",
       "      <th>Species_OTHER</th>\n",
       "    </tr>\n",
       "    <tr>\n",
       "      <th>Month</th>\n",
       "      <th></th>\n",
       "      <th></th>\n",
       "      <th></th>\n",
       "      <th></th>\n",
       "      <th></th>\n",
       "      <th></th>\n",
       "      <th></th>\n",
       "      <th></th>\n",
       "      <th></th>\n",
       "      <th></th>\n",
       "      <th></th>\n",
       "    </tr>\n",
       "  </thead>\n",
       "  <tbody>\n",
       "    <tr>\n",
       "      <th>5</th>\n",
       "      <td>3097</td>\n",
       "      <td>3514.839121</td>\n",
       "      <td>-7365.829275</td>\n",
       "      <td>666</td>\n",
       "      <td>230</td>\n",
       "      <td>0</td>\n",
       "      <td>168706</td>\n",
       "      <td>4.0</td>\n",
       "      <td>42.0</td>\n",
       "      <td>38.0</td>\n",
       "      <td>0.0</td>\n",
       "    </tr>\n",
       "    <tr>\n",
       "      <th>6</th>\n",
       "      <td>54605</td>\n",
       "      <td>65775.038242</td>\n",
       "      <td>-137818.154814</td>\n",
       "      <td>12762</td>\n",
       "      <td>16578</td>\n",
       "      <td>1</td>\n",
       "      <td>3158293</td>\n",
       "      <td>81.0</td>\n",
       "      <td>704.0</td>\n",
       "      <td>745.0</td>\n",
       "      <td>41.0</td>\n",
       "    </tr>\n",
       "    <tr>\n",
       "      <th>7</th>\n",
       "      <td>94512</td>\n",
       "      <td>109060.831911</td>\n",
       "      <td>-228566.934243</td>\n",
       "      <td>20589</td>\n",
       "      <td>37248</td>\n",
       "      <td>46</td>\n",
       "      <td>5238128</td>\n",
       "      <td>348.0</td>\n",
       "      <td>1196.0</td>\n",
       "      <td>983.0</td>\n",
       "      <td>79.0</td>\n",
       "    </tr>\n",
       "    <tr>\n",
       "      <th>8</th>\n",
       "      <td>132516</td>\n",
       "      <td>156878.709815</td>\n",
       "      <td>-328902.436535</td>\n",
       "      <td>28679</td>\n",
       "      <td>58036</td>\n",
       "      <td>377</td>\n",
       "      <td>7535981</td>\n",
       "      <td>1402.0</td>\n",
       "      <td>1635.0</td>\n",
       "      <td>603.0</td>\n",
       "      <td>111.0</td>\n",
       "    </tr>\n",
       "    <tr>\n",
       "      <th>9</th>\n",
       "      <td>79869</td>\n",
       "      <td>92806.393646</td>\n",
       "      <td>-194518.733949</td>\n",
       "      <td>17280</td>\n",
       "      <td>21029</td>\n",
       "      <td>125</td>\n",
       "      <td>4457438</td>\n",
       "      <td>754.0</td>\n",
       "      <td>1048.0</td>\n",
       "      <td>345.0</td>\n",
       "      <td>71.0</td>\n",
       "    </tr>\n",
       "    <tr>\n",
       "      <th>10</th>\n",
       "      <td>10337</td>\n",
       "      <td>11547.196643</td>\n",
       "      <td>-24203.144456</td>\n",
       "      <td>2176</td>\n",
       "      <td>1918</td>\n",
       "      <td>2</td>\n",
       "      <td>554062</td>\n",
       "      <td>110.0</td>\n",
       "      <td>127.0</td>\n",
       "      <td>26.0</td>\n",
       "      <td>13.0</td>\n",
       "    </tr>\n",
       "  </tbody>\n",
       "</table>\n",
       "</div>"
      ],
      "text/plain": [
       "        Block       Latitude      Longitude  AddressAccuracy  NumMosquitos  \\\n",
       "Month                                                                        \n",
       "5        3097    3514.839121   -7365.829275              666           230   \n",
       "6       54605   65775.038242 -137818.154814            12762         16578   \n",
       "7       94512  109060.831911 -228566.934243            20589         37248   \n",
       "8      132516  156878.709815 -328902.436535            28679         58036   \n",
       "9       79869   92806.393646 -194518.733949            17280         21029   \n",
       "10      10337   11547.196643  -24203.144456             2176          1918   \n",
       "\n",
       "       WnvPresent     Year  Species_CULEX PIPIENS  \\\n",
       "Month                                               \n",
       "5               0   168706                    4.0   \n",
       "6               1  3158293                   81.0   \n",
       "7              46  5238128                  348.0   \n",
       "8             377  7535981                 1402.0   \n",
       "9             125  4457438                  754.0   \n",
       "10              2   554062                  110.0   \n",
       "\n",
       "       Species_CULEX PIPIENS/RESTUANS  Species_CULEX RESTUANS  Species_OTHER  \n",
       "Month                                                                         \n",
       "5                                42.0                    38.0            0.0  \n",
       "6                               704.0                   745.0           41.0  \n",
       "7                              1196.0                   983.0           79.0  \n",
       "8                              1635.0                   603.0          111.0  \n",
       "9                              1048.0                   345.0           71.0  \n",
       "10                              127.0                    26.0           13.0  "
      ]
     },
     "execution_count": 23,
     "metadata": {},
     "output_type": "execute_result"
    }
   ],
   "source": [
    "train_df.groupby('Month').sum()"
   ]
  },
  {
   "cell_type": "code",
   "execution_count": 24,
   "metadata": {},
   "outputs": [
    {
     "data": {
      "image/png": "[encoded data removed]",
      "text/plain": [
       "<matplotlib.figure.Figure at 0x110daa518>"
      ]
     },
     "metadata": {},
     "output_type": "display_data"
    }
   ],
   "source": [
    "plt.bar(train_df.groupby('Month').sum().index, train_df.groupby('Month').sum()['Species_CULEX PIPIENS'], color = '#7BC576', edgecolor = 'none', align = 'center')\n",
    "plt.title(\"Culex pipiens\", style = 'italic', fontsize = 25)\n",
    "plt.ylim((0,1700))\n",
    "plt.yticks([400,800,1200,1600], fontsize = 16)\n",
    "plt.xlim((4,11))\n",
    "plt.xticks([5,6,7,8,9,10],['May', 'Jun', 'Jul', 'Aug', 'Sep', 'Oct'], fontsize = 16, rotation = 30)\n",
    "plt.savefig(\"assets/visualizations/culexpipiensbymonth.png\")"
   ]
  },
  {
   "cell_type": "code",
   "execution_count": 25,
   "metadata": {},
   "outputs": [
    {
     "data": {
      "image/png": "[encoded data removed]",
      "text/plain": [
       "<matplotlib.figure.Figure at 0x1110c90b8>"
      ]
     },
     "metadata": {},
     "output_type": "display_data"
    }
   ],
   "source": [
    "plt.bar(train_df.groupby('Month').sum().index, train_df.groupby('Month').sum()['Species_CULEX PIPIENS/RESTUANS'], color = '#7BC576', edgecolor = 'none', align = 'center')\n",
    "plt.title(\"Culex pipiens/restuans\", style = 'italic', fontsize = 25)\n",
    "plt.ylim((0,1700))\n",
    "plt.yticks([400,800,1200,1600], fontsize = 16)\n",
    "plt.xlim((4,11))\n",
    "plt.xticks([5,6,7,8,9,10],['May', 'Jun', 'Jul', 'Aug', 'Sep', 'Oct'], fontsize = 16, rotation = 30)\n",
    "plt.savefig(\"assets/visualizations/culexpipiensrestuansbymonth.png\")"
   ]
  },
  {
   "cell_type": "code",
   "execution_count": 26,
   "metadata": {},
   "outputs": [
    {
     "data": {
      "image/png": "[encoded data removed]",
      "text/plain": [
       "<matplotlib.figure.Figure at 0x110daa898>"
      ]
     },
     "metadata": {},
     "output_type": "display_data"
    }
   ],
   "source": [
    "plt.bar(train_df.groupby('Month').sum().index, train_df.groupby('Month').sum()['Species_CULEX RESTUANS'], color = '#7BC576', edgecolor = 'none', align = 'center')\n",
    "plt.title(\"Culex restuans\", style = 'italic', fontsize = 25)\n",
    "plt.ylim((0,1700))\n",
    "plt.yticks([400,800,1200,1600], fontsize = 16)\n",
    "plt.xlim((4,11))\n",
    "plt.xticks([5,6,7,8,9,10],['May', 'Jun', 'Jul', 'Aug', 'Sep', 'Oct'], fontsize = 16, rotation = 30)\n",
    "plt.savefig(\"assets/visualizations/culexrestuansbymonth.png\")"
   ]
  },
  {
   "cell_type": "code",
   "execution_count": 27,
   "metadata": {},
   "outputs": [
    {
     "data": {
      "image/png": "[encoded data removed]",
      "text/plain": [
       "<matplotlib.figure.Figure at 0x11115c780>"
      ]
     },
     "metadata": {},
     "output_type": "display_data"
    }
   ],
   "source": [
    "plt.bar(train_df.groupby('Month').sum().index, train_df.groupby('Month').sum()['Species_OTHER'], color = '#7BC576', edgecolor = 'none', align = 'center')\n",
    "plt.title(\"Other mosquitos\", fontsize = 25)\n",
    "plt.ylim((0,1700))\n",
    "plt.yticks([400,800,1200,1600], fontsize = 16)\n",
    "plt.xlim((4,11))\n",
    "plt.xticks([5,6,7,8,9,10],['May', 'Jun', 'Jul', 'Aug', 'Sep', 'Oct'], fontsize = 16, rotation = 30)\n",
    "plt.savefig(\"assets/visualizations/othermosquitosbymonth.png\")"
   ]
  },
  {
   "cell_type": "markdown",
   "metadata": {},
   "source": [
    "Not only are these species not relevant for predicting West Nile, but they aren't common either."
   ]
  },
  {
   "cell_type": "markdown",
   "metadata": {},
   "source": [
    "### Building a better parks csv\n",
    "The only information we will be using in this model is the location and size of every Chicago park. Other features, while potentially useful, will complicate the model."
   ]
  },
  {
   "cell_type": "code",
   "execution_count": 28,
   "metadata": {},
   "outputs": [],
   "source": [
    "# Read the data (should be in assets)\n",
    "parks_df = pd.read_csv('assets/Parks_-_Locations__deprecated_November_2016_.csv')\n",
    "# Subset important columns\n",
    "parks_df = parks_df[['ACRES', 'LOCATION']]\n",
    "# The first several lines are junk for some reason\n",
    "parks_df.drop(labels = [0,1,2,3], axis = 0, inplace=True)\n",
    "# Regex patterns to extract the lat and lon \n",
    "pat1 = \"\\((\\d{2}\\.\\d{2,})\"\n",
    "pat2 = \", (-\\d{2}\\.\\d{2,})\"\n",
    "# Adding these as new columns\n",
    "parks_df['lat'] = parks_df.LOCATION.str.extract(pat1)\n",
    "parks_df['lon'] = parks_df.LOCATION.str.extract(pat2)\n",
    "# Dropping the original\n",
    "parks_df.drop(labels= ['LOCATION'], axis = 1, inplace=True)\n",
    "# Saving the modified csv\n",
    "parks_df.to_csv(\"assets/modified_parks.csv\")"
   ]
  },
  {
   "cell_type": "code",
   "execution_count": 29,
   "metadata": {},
   "outputs": [
    {
     "data": {
      "text/html": [
       "<div>\n",
       "<style scoped>\n",
       "    .dataframe tbody tr th:only-of-type {\n",
       "        vertical-align: middle;\n",
       "    }\n",
       "\n",
       "    .dataframe tbody tr th {\n",
       "        vertical-align: top;\n",
       "    }\n",
       "\n",
       "    .dataframe thead th {\n",
       "        text-align: right;\n",
       "    }\n",
       "</style>\n",
       "<table border=\"1\" class=\"dataframe\">\n",
       "  <thead>\n",
       "    <tr style=\"text-align: right;\">\n",
       "      <th></th>\n",
       "      <th>ACRES</th>\n",
       "      <th>lat</th>\n",
       "      <th>lon</th>\n",
       "    </tr>\n",
       "  </thead>\n",
       "  <tbody>\n",
       "    <tr>\n",
       "      <th>4</th>\n",
       "      <td>0.89</td>\n",
       "      <td>42.01933233897205</td>\n",
       "      <td>-87.66405025628663</td>\n",
       "    </tr>\n",
       "    <tr>\n",
       "      <th>5</th>\n",
       "      <td>5.05</td>\n",
       "      <td>41.68478426640253</td>\n",
       "      <td>-87.66639909058227</td>\n",
       "    </tr>\n",
       "    <tr>\n",
       "      <th>6</th>\n",
       "      <td>91.20</td>\n",
       "      <td>41.863104937710304</td>\n",
       "      <td>-87.60910669563046</td>\n",
       "    </tr>\n",
       "    <tr>\n",
       "      <th>7</th>\n",
       "      <td>0.53</td>\n",
       "      <td>41.811541485828116</td>\n",
       "      <td>-87.71908521574412</td>\n",
       "    </tr>\n",
       "    <tr>\n",
       "      <th>8</th>\n",
       "      <td>0.16</td>\n",
       "      <td>41.96626558405787</td>\n",
       "      <td>-87.65608306077826</td>\n",
       "    </tr>\n",
       "  </tbody>\n",
       "</table>\n",
       "</div>"
      ],
      "text/plain": [
       "   ACRES                 lat                 lon\n",
       "4   0.89   42.01933233897205  -87.66405025628663\n",
       "5   5.05   41.68478426640253  -87.66639909058227\n",
       "6  91.20  41.863104937710304  -87.60910669563046\n",
       "7   0.53  41.811541485828116  -87.71908521574412\n",
       "8   0.16   41.96626558405787  -87.65608306077826"
      ]
     },
     "execution_count": 29,
     "metadata": {},
     "output_type": "execute_result"
    }
   ],
   "source": [
    "parks_df.head()"
   ]
  },
  {
   "cell_type": "markdown",
   "metadata": {},
   "source": [
    "Next step is to put together a set of functions to create a \"park score\" based on this modified parks database. The formula is as follows:  \n",
    "\n",
    "$$Score = \\Sigma_i^n Area_i / Dist_i$$  \n",
    "For every trap, the score is each park's area divided by the distance between the trap and that park, summed over all parks."
   ]
  },
  {
   "cell_type": "code",
   "execution_count": 30,
   "metadata": {},
   "outputs": [
    {
     "name": "stdout",
     "output_type": "stream",
     "text": [
      "            neighborhood  park_score\n",
      "0                Dunning    0.575236\n",
      "1                Dunning    0.575236\n",
      "2  Sauganash,Forest Glen    0.574931\n"
     ]
    }
   ],
   "source": [
    "# From James's lat_lon_ds function:\n",
    "\n",
    "def lat_lon_ds(p_1, p_2):\n",
    "    \"\"\"Argument 'p1' is a list of decimal [lat, lon] coords in degrees. 'p2' is another list.\n",
    "    Function returns the distance between them in meters, without correction for curvature of the earth.\n",
    "    Distance will be slightly underestimated by a fraction approximately (t - sin(t)), where t is the angular separation\n",
    "    between the two points in radians.  For 1 degree of latitude, the relative error is < 1e-6.\"\"\"\n",
    "\n",
    "    import numpy as np\n",
    "\n",
    "    # http://frederic.chambat.free.fr/geophy/inertie_pepi01/article.pdf\n",
    "    # Equitorial radius, eqn. 15\n",
    "    R_earth = 6378137  # meters\n",
    "\n",
    "    # Distance btw O'Hare and Wrigley field is 20879.8 meters, along a great circle\n",
    "    # coords are [41.94885800000001, 87.65774809999999], [41.9741625, 87.9073214]\n",
    "    # According to http://edwilliams.org/gccalc.htm\n",
    "    # This gives a Chicago-area correction factor of (20879.8/20849.9),\n",
    "    # where the denominator is calculated using uncorrected R_earth.\n",
    "\n",
    "    R = R_earth*(20879.8/20849.9)\n",
    "\n",
    "    theta_1 = (90 - p_1[0])*(2*np.pi/360)\n",
    "    phi_1 = p_1[1]*(2*np.pi/360)\n",
    "    theta_2 = (90 - p_2[0])*(2*np.pi/360)\n",
    "    phi_2 = p_2[1]*(2*np.pi/360)\n",
    "\n",
    "    def x(r,phi,theta):\n",
    "        return r*np.sin(theta)*np.cos(phi)\n",
    "\n",
    "    def y(r,phi,theta):\n",
    "        return r*np.sin(theta)*np.sin(phi)\n",
    "\n",
    "    def z(r,phi,theta):\n",
    "        return r*np.cos(theta)\n",
    "\n",
    "    # Calculate euclidean distance\n",
    "    delta_s= np.sqrt(\n",
    "        (x(R, phi_1, theta_1) - x(R, phi_2, theta_2))**2 + \\\n",
    "        (y(R, phi_1, theta_1) - y(R, phi_2, theta_2))**2 + \\\n",
    "        (z(R, phi_1, theta_1) - z(R, phi_2, theta_2))**2 \\\n",
    "    )\n",
    "\n",
    "    return delta_s\n",
    "\n",
    "# The function version of the above parks modifying script.\n",
    "\n",
    "def modify_parks_csv(parks_csv = '../Parks_-_Locations__deprecated_November_2016_.csv'):\n",
    "    parks_df = pd.read_csv(parks_csv)\n",
    "\n",
    "    parks_df = parks_df[['ACRES', 'LOCATION']]\n",
    "\n",
    "    parks_df.drop(labels = [0,1,2,3], axis = 0, inplace=True)\n",
    "\n",
    "    pat1 = \"\\((\\d{2}\\.\\d{2,})\"\n",
    "    pat2 = \", (-\\d{2}\\.\\d{2,})\"\n",
    "    parks_df['lat'] = parks_df.LOCATION.str.extract(pat1)\n",
    "    parks_df['lon'] = parks_df.LOCATION.str.extract(pat2)\n",
    "    parks_df.drop(labels= ['LOCATION'], axis = 1, inplace=True)\n",
    "    parks_df.to_csv(\"modified_parks.csv\")\n",
    "\n",
    "# How to calculate the score for one park\n",
    "\n",
    "def score(entry_lat, entry_lon, area_col, lat_col, lon_col):\n",
    "    score = 0\n",
    "    for lat, lon, area in zip(lat_col, lon_col, area_col):\n",
    "        score += area / lat_lon_ds((entry_lat,entry_lon), (lat,lon))\n",
    "        # print(score)\n",
    "    return score\n",
    "\n",
    "# Generating a list of park scores\n",
    "\n",
    "def make_score_column(df, park_df):\n",
    "    lat_col = park_df['lat'].astype(float)\n",
    "    lon_col = park_df['lon'].astype(float)\n",
    "    area_col = park_df['ACRES'].astype(float)\n",
    "\n",
    "    entry_lat_col = df['Latitude']\n",
    "    entry_lon_col = df['Longitude']\n",
    "    score_column = []\n",
    "    for entry_lat, entry_lon in zip(entry_lat_col, entry_lon_col):\n",
    "        score_column.append(score(entry_lat, entry_lon, area_col, lat_col, lon_col))\n",
    "\n",
    "    return score_column\n",
    "\n",
    "# Reading in data\n",
    "\n",
    "parkdf = pd.read_csv(\"modified_parks.csv\")\n",
    "df = pd.read_csv(\"./assets/train_with_neighborhoods.csv\")\n",
    "\n",
    "# Adding park score column\n",
    "\n",
    "df['park_score'] = make_score_column(df, parkdf)\n",
    "\n",
    "print(df[['neighborhood', 'park_score']].head(3))\n"
   ]
  },
  {
   "cell_type": "code",
   "execution_count": 31,
   "metadata": {},
   "outputs": [
    {
     "data": {
      "image/png": "[encoded data removed]",
      "text/plain": [
       "<matplotlib.figure.Figure at 0x111164978>"
      ]
     },
     "metadata": {},
     "output_type": "display_data"
    }
   ],
   "source": [
    "sns.distplot(np.log(df['park_score']))\n",
    "plt.xlabel(\"Park Score (log scale)\", fontsize = 18)\n",
    "plt.savefig('assets/visualizations/parkscore_distr.png')"
   ]
  },
  {
   "cell_type": "code",
   "execution_count": 32,
   "metadata": {},
   "outputs": [
    {
     "data": {
      "text/plain": [
       "(577, 4)"
      ]
     },
     "execution_count": 32,
     "metadata": {},
     "output_type": "execute_result"
    }
   ],
   "source": [
    "parkdf.shape"
   ]
  },
  {
   "cell_type": "code",
   "execution_count": 33,
   "metadata": {},
   "outputs": [
    {
     "data": {
      "text/plain": [
       "<matplotlib.axes._subplots.AxesSubplot at 0x1110d24e0>"
      ]
     },
     "execution_count": 33,
     "metadata": {},
     "output_type": "execute_result"
    },
    {
     "data": {
      "image/png": "[encoded data removed]",
      "text/plain": [
       "<matplotlib.figure.Figure at 0x1110d29e8>"
      ]
     },
     "metadata": {},
     "output_type": "display_data"
    }
   ],
   "source": [
    "plt.figure(figsize=(10,10))\n",
    "sns.distplot(parkdf['ACRES'], kde = False, hist_kws={'log':True})"
   ]
  },
  {
   "cell_type": "markdown",
   "metadata": {},
   "source": [
    "Distribution of park scores:"
   ]
  },
  {
   "cell_type": "markdown",
   "metadata": {},
   "source": [
    "### How is West Nile distributed in each neighborhood?"
   ]
  },
  {
   "cell_type": "code",
   "execution_count": 34,
   "metadata": {},
   "outputs": [],
   "source": [
    "wnv_neigh = pd.DataFrame(df.groupby('neighborhood').WnvPresent.sum()).sort_values('WnvPresent', ascending = False).reset_index()"
   ]
  },
  {
   "cell_type": "code",
   "execution_count": 35,
   "metadata": {},
   "outputs": [
    {
     "data": {
      "image/png": "[encoded data removed]",
      "text/plain": [
       "<matplotlib.figure.Figure at 0x110557cc0>"
      ]
     },
     "metadata": {},
     "output_type": "display_data"
    }
   ],
   "source": [
    "plt.figure(figsize=(12,12))\n",
    "plt.barh(wnv_neigh['neighborhood'], wnv_neigh['WnvPresent'])\n",
    "plt.savefig('assets/visualizations/wnv_per_neighborhood.png')"
   ]
  },
  {
   "cell_type": "markdown",
   "metadata": {},
   "source": [
    "Let's group these into categories."
   ]
  },
  {
   "cell_type": "code",
   "execution_count": 36,
   "metadata": {},
   "outputs": [
    {
     "data": {
      "text/html": [
       "<div>\n",
       "<style scoped>\n",
       "    .dataframe tbody tr th:only-of-type {\n",
       "        vertical-align: middle;\n",
       "    }\n",
       "\n",
       "    .dataframe tbody tr th {\n",
       "        vertical-align: top;\n",
       "    }\n",
       "\n",
       "    .dataframe thead th {\n",
       "        text-align: right;\n",
       "    }\n",
       "</style>\n",
       "<table border=\"1\" class=\"dataframe\">\n",
       "  <thead>\n",
       "    <tr style=\"text-align: right;\">\n",
       "      <th></th>\n",
       "      <th>WnvPresent</th>\n",
       "    </tr>\n",
       "    <tr>\n",
       "      <th>neighborhood</th>\n",
       "      <th></th>\n",
       "    </tr>\n",
       "  </thead>\n",
       "  <tbody>\n",
       "    <tr>\n",
       "      <th>O'Hare</th>\n",
       "      <td>66</td>\n",
       "    </tr>\n",
       "    <tr>\n",
       "      <th>South Deering</th>\n",
       "      <td>53</td>\n",
       "    </tr>\n",
       "    <tr>\n",
       "      <th>Dunning</th>\n",
       "      <td>33</td>\n",
       "    </tr>\n",
       "    <tr>\n",
       "      <th>Fringe</th>\n",
       "      <td>32</td>\n",
       "    </tr>\n",
       "    <tr>\n",
       "      <th>Norwood Park</th>\n",
       "      <td>30</td>\n",
       "    </tr>\n",
       "    <tr>\n",
       "      <th>New City</th>\n",
       "      <td>18</td>\n",
       "    </tr>\n",
       "    <tr>\n",
       "      <th>Calumet Heights</th>\n",
       "      <td>18</td>\n",
       "    </tr>\n",
       "    <tr>\n",
       "      <th>Humboldt Park</th>\n",
       "      <td>17</td>\n",
       "    </tr>\n",
       "    <tr>\n",
       "      <th>Sauganash,Forest Glen</th>\n",
       "      <td>15</td>\n",
       "    </tr>\n",
       "    <tr>\n",
       "      <th>Portage Park</th>\n",
       "      <td>15</td>\n",
       "    </tr>\n",
       "    <tr>\n",
       "      <th>Edison Park</th>\n",
       "      <td>14</td>\n",
       "    </tr>\n",
       "    <tr>\n",
       "      <th>Belmont Cragin</th>\n",
       "      <td>13</td>\n",
       "    </tr>\n",
       "    <tr>\n",
       "      <th>Hegewisch</th>\n",
       "      <td>12</td>\n",
       "    </tr>\n",
       "    <tr>\n",
       "      <th>Clearing</th>\n",
       "      <td>12</td>\n",
       "    </tr>\n",
       "    <tr>\n",
       "      <th>Little Italy, UIC</th>\n",
       "      <td>12</td>\n",
       "    </tr>\n",
       "    <tr>\n",
       "      <th>Mount Greenwood</th>\n",
       "      <td>11</td>\n",
       "    </tr>\n",
       "    <tr>\n",
       "      <th>Ashburn</th>\n",
       "      <td>11</td>\n",
       "    </tr>\n",
       "    <tr>\n",
       "      <th>Beverly</th>\n",
       "      <td>10</td>\n",
       "    </tr>\n",
       "    <tr>\n",
       "      <th>Lincoln Park</th>\n",
       "      <td>10</td>\n",
       "    </tr>\n",
       "    <tr>\n",
       "      <th>Grand Crossing</th>\n",
       "      <td>9</td>\n",
       "    </tr>\n",
       "    <tr>\n",
       "      <th>Archer Heights</th>\n",
       "      <td>9</td>\n",
       "    </tr>\n",
       "    <tr>\n",
       "      <th>West Ridge</th>\n",
       "      <td>9</td>\n",
       "    </tr>\n",
       "    <tr>\n",
       "      <th>East Side</th>\n",
       "      <td>9</td>\n",
       "    </tr>\n",
       "    <tr>\n",
       "      <th>Morgan Park</th>\n",
       "      <td>8</td>\n",
       "    </tr>\n",
       "    <tr>\n",
       "      <th>Irving Park</th>\n",
       "      <td>8</td>\n",
       "    </tr>\n",
       "    <tr>\n",
       "      <th>North Park</th>\n",
       "      <td>7</td>\n",
       "    </tr>\n",
       "    <tr>\n",
       "      <th>Chicago Lawn</th>\n",
       "      <td>7</td>\n",
       "    </tr>\n",
       "    <tr>\n",
       "      <th>Austin</th>\n",
       "      <td>7</td>\n",
       "    </tr>\n",
       "    <tr>\n",
       "      <th>Galewood</th>\n",
       "      <td>6</td>\n",
       "    </tr>\n",
       "    <tr>\n",
       "      <th>Little Village</th>\n",
       "      <td>5</td>\n",
       "    </tr>\n",
       "    <tr>\n",
       "      <th>...</th>\n",
       "      <td>...</td>\n",
       "    </tr>\n",
       "    <tr>\n",
       "      <th>Burnside</th>\n",
       "      <td>4</td>\n",
       "    </tr>\n",
       "    <tr>\n",
       "      <th>Avondale</th>\n",
       "      <td>4</td>\n",
       "    </tr>\n",
       "    <tr>\n",
       "      <th>Englewood</th>\n",
       "      <td>4</td>\n",
       "    </tr>\n",
       "    <tr>\n",
       "      <th>Edgewater</th>\n",
       "      <td>4</td>\n",
       "    </tr>\n",
       "    <tr>\n",
       "      <th>Grand Boulevard</th>\n",
       "      <td>3</td>\n",
       "    </tr>\n",
       "    <tr>\n",
       "      <th>South Chicago</th>\n",
       "      <td>3</td>\n",
       "    </tr>\n",
       "    <tr>\n",
       "      <th>North Lawndale</th>\n",
       "      <td>3</td>\n",
       "    </tr>\n",
       "    <tr>\n",
       "      <th>Chatham</th>\n",
       "      <td>2</td>\n",
       "    </tr>\n",
       "    <tr>\n",
       "      <th>Wicker Park</th>\n",
       "      <td>2</td>\n",
       "    </tr>\n",
       "    <tr>\n",
       "      <th>Avalon Park</th>\n",
       "      <td>2</td>\n",
       "    </tr>\n",
       "    <tr>\n",
       "      <th>Garfield Ridge</th>\n",
       "      <td>2</td>\n",
       "    </tr>\n",
       "    <tr>\n",
       "      <th>South Shore</th>\n",
       "      <td>1</td>\n",
       "    </tr>\n",
       "    <tr>\n",
       "      <th>Riverdale</th>\n",
       "      <td>1</td>\n",
       "    </tr>\n",
       "    <tr>\n",
       "      <th>West Town</th>\n",
       "      <td>1</td>\n",
       "    </tr>\n",
       "    <tr>\n",
       "      <th>Roseland</th>\n",
       "      <td>1</td>\n",
       "    </tr>\n",
       "    <tr>\n",
       "      <th>Lake View</th>\n",
       "      <td>1</td>\n",
       "    </tr>\n",
       "    <tr>\n",
       "      <th>Pullman</th>\n",
       "      <td>1</td>\n",
       "    </tr>\n",
       "    <tr>\n",
       "      <th>Gage Park</th>\n",
       "      <td>1</td>\n",
       "    </tr>\n",
       "    <tr>\n",
       "      <th>Montclare</th>\n",
       "      <td>1</td>\n",
       "    </tr>\n",
       "    <tr>\n",
       "      <th>Mckinley Park</th>\n",
       "      <td>1</td>\n",
       "    </tr>\n",
       "    <tr>\n",
       "      <th>Loop</th>\n",
       "      <td>1</td>\n",
       "    </tr>\n",
       "    <tr>\n",
       "      <th>Rogers Park</th>\n",
       "      <td>0</td>\n",
       "    </tr>\n",
       "    <tr>\n",
       "      <th>Bridgeport</th>\n",
       "      <td>0</td>\n",
       "    </tr>\n",
       "    <tr>\n",
       "      <th>Hyde Park</th>\n",
       "      <td>0</td>\n",
       "    </tr>\n",
       "    <tr>\n",
       "      <th>Garfield Park</th>\n",
       "      <td>0</td>\n",
       "    </tr>\n",
       "    <tr>\n",
       "      <th>Streeterville</th>\n",
       "      <td>0</td>\n",
       "    </tr>\n",
       "    <tr>\n",
       "      <th>Washington Park</th>\n",
       "      <td>0</td>\n",
       "    </tr>\n",
       "    <tr>\n",
       "      <th>Lower West Side</th>\n",
       "      <td>0</td>\n",
       "    </tr>\n",
       "    <tr>\n",
       "      <th>Logan Square</th>\n",
       "      <td>0</td>\n",
       "    </tr>\n",
       "    <tr>\n",
       "      <th>Printers Row</th>\n",
       "      <td>0</td>\n",
       "    </tr>\n",
       "  </tbody>\n",
       "</table>\n",
       "<p>65 rows × 1 columns</p>\n",
       "</div>"
      ],
      "text/plain": [
       "                       WnvPresent\n",
       "neighborhood                     \n",
       "O'Hare                         66\n",
       "South Deering                  53\n",
       "Dunning                        33\n",
       "Fringe                         32\n",
       "Norwood Park                   30\n",
       "New City                       18\n",
       "Calumet Heights                18\n",
       "Humboldt Park                  17\n",
       "Sauganash,Forest Glen          15\n",
       "Portage Park                   15\n",
       "Edison Park                    14\n",
       "Belmont Cragin                 13\n",
       "Hegewisch                      12\n",
       "Clearing                       12\n",
       "Little Italy, UIC              12\n",
       "Mount Greenwood                11\n",
       "Ashburn                        11\n",
       "Beverly                        10\n",
       "Lincoln Park                   10\n",
       "Grand Crossing                  9\n",
       "Archer Heights                  9\n",
       "West Ridge                      9\n",
       "East Side                       9\n",
       "Morgan Park                     8\n",
       "Irving Park                     8\n",
       "North Park                      7\n",
       "Chicago Lawn                    7\n",
       "Austin                          7\n",
       "Galewood                        6\n",
       "Little Village                  5\n",
       "...                           ...\n",
       "Burnside                        4\n",
       "Avondale                        4\n",
       "Englewood                       4\n",
       "Edgewater                       4\n",
       "Grand Boulevard                 3\n",
       "South Chicago                   3\n",
       "North Lawndale                  3\n",
       "Chatham                         2\n",
       "Wicker Park                     2\n",
       "Avalon Park                     2\n",
       "Garfield Ridge                  2\n",
       "South Shore                     1\n",
       "Riverdale                       1\n",
       "West Town                       1\n",
       "Roseland                        1\n",
       "Lake View                       1\n",
       "Pullman                         1\n",
       "Gage Park                       1\n",
       "Montclare                       1\n",
       "Mckinley Park                   1\n",
       "Loop                            1\n",
       "Rogers Park                     0\n",
       "Bridgeport                      0\n",
       "Hyde Park                       0\n",
       "Garfield Park                   0\n",
       "Streeterville                   0\n",
       "Washington Park                 0\n",
       "Lower West Side                 0\n",
       "Logan Square                    0\n",
       "Printers Row                    0\n",
       "\n",
       "[65 rows x 1 columns]"
      ]
     },
     "execution_count": 36,
     "metadata": {},
     "output_type": "execute_result"
    }
   ],
   "source": [
    "nbh_wnv_df = pd.DataFrame(df.groupby('neighborhood').WnvPresent.sum()).sort_values('WnvPresent', ascending = False)\n",
    "nbh_wnv_df.head()"
   ]
  },
  {
   "cell_type": "markdown",
   "metadata": {},
   "source": [
    "Looks like there are four groups: the high rate neighborhoods (greater than 30 infections), the medium (between 4 and 18), the low (between 1 and 4), and the no infection (0). A dictionary mapping will fix this right up."
   ]
  },
  {
   "cell_type": "code",
   "execution_count": 37,
   "metadata": {},
   "outputs": [],
   "source": [
    "d = {\n",
    "    range(30, 67): \"high\",\n",
    "    range(4, 30): \"medium\",\n",
    "    range(1,4): \"low\"\n",
    "}"
   ]
  },
  {
   "cell_type": "markdown",
   "metadata": {},
   "source": [
    "Here's some clever code I found in Stack Overflow: the lambda function here looks to see if x is in the key, and if it is, it puts in the value. Otherwise it puts in `'none'`."
   ]
  },
  {
   "cell_type": "code",
   "execution_count": 38,
   "metadata": {},
   "outputs": [],
   "source": [
    "nbh_wnv_df['infection_rate'] = nbh_wnv_df['WnvPresent'].apply(lambda x: next((v for k, v in d.items() if x in k), 'none'))"
   ]
  },
  {
   "cell_type": "markdown",
   "metadata": {},
   "source": [
    "And now I'm turning THAT into a dictionary so I can map the neighborhoods in test, where I don't know the infection rate!"
   ]
  },
  {
   "cell_type": "code",
   "execution_count": 39,
   "metadata": {},
   "outputs": [
    {
     "data": {
      "text/plain": [
       "{\"O'Hare\": 'high',\n",
       " 'South Deering': 'high',\n",
       " 'Dunning': 'high',\n",
       " 'Fringe': 'high',\n",
       " 'Norwood Park': 'high',\n",
       " 'New City': 'medium',\n",
       " 'Calumet Heights': 'medium',\n",
       " 'Humboldt Park': 'medium',\n",
       " 'Sauganash,Forest Glen': 'medium',\n",
       " 'Portage Park': 'medium',\n",
       " 'Edison Park': 'medium',\n",
       " 'Belmont Cragin': 'medium',\n",
       " 'Hegewisch': 'medium',\n",
       " 'Clearing': 'medium',\n",
       " 'Little Italy, UIC': 'medium',\n",
       " 'Mount Greenwood': 'medium',\n",
       " 'Ashburn': 'medium',\n",
       " 'Beverly': 'medium',\n",
       " 'Lincoln Park': 'medium',\n",
       " 'Grand Crossing': 'medium',\n",
       " 'Archer Heights': 'medium',\n",
       " 'West Ridge': 'medium',\n",
       " 'East Side': 'medium',\n",
       " 'Morgan Park': 'medium',\n",
       " 'Irving Park': 'medium',\n",
       " 'North Park': 'medium',\n",
       " 'Chicago Lawn': 'medium',\n",
       " 'Austin': 'medium',\n",
       " 'Galewood': 'medium',\n",
       " 'Little Village': 'medium',\n",
       " 'Washington Heights': 'medium',\n",
       " 'Woodlawn': 'medium',\n",
       " 'Lincoln Square': 'medium',\n",
       " 'Auburn Gresham': 'medium',\n",
       " 'Ukrainian Village': 'medium',\n",
       " 'Burnside': 'medium',\n",
       " 'Avondale': 'medium',\n",
       " 'Englewood': 'medium',\n",
       " 'Edgewater': 'medium',\n",
       " 'Grand Boulevard': 'low',\n",
       " 'South Chicago': 'low',\n",
       " 'North Lawndale': 'low',\n",
       " 'Chatham': 'low',\n",
       " 'Wicker Park': 'low',\n",
       " 'Avalon Park': 'low',\n",
       " 'Garfield Ridge': 'low',\n",
       " 'South Shore': 'low',\n",
       " 'Riverdale': 'low',\n",
       " 'West Town': 'low',\n",
       " 'Roseland': 'low',\n",
       " 'Lake View': 'low',\n",
       " 'Pullman': 'low',\n",
       " 'Gage Park': 'low',\n",
       " 'Montclare': 'low',\n",
       " 'Mckinley Park': 'low',\n",
       " 'Loop': 'low',\n",
       " 'Rogers Park': 'none',\n",
       " 'Bridgeport': 'none',\n",
       " 'Hyde Park': 'none',\n",
       " 'Garfield Park': 'none',\n",
       " 'Streeterville': 'none',\n",
       " 'Washington Park': 'none',\n",
       " 'Lower West Side': 'none',\n",
       " 'Logan Square': 'none',\n",
       " 'Printers Row': 'none'}"
      ]
     },
     "execution_count": 39,
     "metadata": {},
     "output_type": "execute_result"
    }
   ],
   "source": [
    "dict(nbh_wnv_df['infection_rate'])"
   ]
  },
  {
   "cell_type": "markdown",
   "metadata": {},
   "source": [
    "Pulling it all together:"
   ]
  },
  {
   "cell_type": "code",
   "execution_count": 40,
   "metadata": {},
   "outputs": [
    {
     "data": {
      "text/html": [
       "<div>\n",
       "<style scoped>\n",
       "    .dataframe tbody tr th:only-of-type {\n",
       "        vertical-align: middle;\n",
       "    }\n",
       "\n",
       "    .dataframe tbody tr th {\n",
       "        vertical-align: top;\n",
       "    }\n",
       "\n",
       "    .dataframe thead th {\n",
       "        text-align: right;\n",
       "    }\n",
       "</style>\n",
       "<table border=\"1\" class=\"dataframe\">\n",
       "  <thead>\n",
       "    <tr style=\"text-align: right;\">\n",
       "      <th></th>\n",
       "      <th>Date</th>\n",
       "      <th>Address</th>\n",
       "      <th>Species</th>\n",
       "      <th>Block</th>\n",
       "      <th>Street</th>\n",
       "      <th>Trap</th>\n",
       "      <th>AddressNumberAndStreet</th>\n",
       "      <th>Latitude</th>\n",
       "      <th>Longitude</th>\n",
       "      <th>AddressAccuracy</th>\n",
       "      <th>NumMosquitos</th>\n",
       "      <th>WnvPresent</th>\n",
       "      <th>neighborhood</th>\n",
       "      <th>neighborhood_infection_category</th>\n",
       "    </tr>\n",
       "  </thead>\n",
       "  <tbody>\n",
       "    <tr>\n",
       "      <th>0</th>\n",
       "      <td>2007-05-29</td>\n",
       "      <td>4100 North Oak Park Avenue, Chicago, IL 60634,...</td>\n",
       "      <td>CULEX PIPIENS/RESTUANS</td>\n",
       "      <td>41</td>\n",
       "      <td>N OAK PARK AVE</td>\n",
       "      <td>T002</td>\n",
       "      <td>4100  N OAK PARK AVE, Chicago, IL</td>\n",
       "      <td>41.95469</td>\n",
       "      <td>-87.800991</td>\n",
       "      <td>9</td>\n",
       "      <td>1</td>\n",
       "      <td>0</td>\n",
       "      <td>Dunning</td>\n",
       "      <td>high</td>\n",
       "    </tr>\n",
       "    <tr>\n",
       "      <th>1</th>\n",
       "      <td>2007-05-29</td>\n",
       "      <td>4100 North Oak Park Avenue, Chicago, IL 60634,...</td>\n",
       "      <td>CULEX RESTUANS</td>\n",
       "      <td>41</td>\n",
       "      <td>N OAK PARK AVE</td>\n",
       "      <td>T002</td>\n",
       "      <td>4100  N OAK PARK AVE, Chicago, IL</td>\n",
       "      <td>41.95469</td>\n",
       "      <td>-87.800991</td>\n",
       "      <td>9</td>\n",
       "      <td>1</td>\n",
       "      <td>0</td>\n",
       "      <td>Dunning</td>\n",
       "      <td>high</td>\n",
       "    </tr>\n",
       "  </tbody>\n",
       "</table>\n",
       "</div>"
      ],
      "text/plain": [
       "         Date                                            Address  \\\n",
       "0  2007-05-29  4100 North Oak Park Avenue, Chicago, IL 60634,...   \n",
       "1  2007-05-29  4100 North Oak Park Avenue, Chicago, IL 60634,...   \n",
       "\n",
       "                  Species  Block           Street  Trap  \\\n",
       "0  CULEX PIPIENS/RESTUANS     41   N OAK PARK AVE  T002   \n",
       "1          CULEX RESTUANS     41   N OAK PARK AVE  T002   \n",
       "\n",
       "              AddressNumberAndStreet  Latitude  Longitude  AddressAccuracy  \\\n",
       "0  4100  N OAK PARK AVE, Chicago, IL  41.95469 -87.800991                9   \n",
       "1  4100  N OAK PARK AVE, Chicago, IL  41.95469 -87.800991                9   \n",
       "\n",
       "   NumMosquitos  WnvPresent neighborhood neighborhood_infection_category  \n",
       "0             1           0      Dunning                            high  \n",
       "1             1           0      Dunning                            high  "
      ]
     },
     "execution_count": 40,
     "metadata": {},
     "output_type": "execute_result"
    }
   ],
   "source": [
    "def add_neighborhood_infection_column(df):\n",
    "    \"\"\"takes a dataframe with a neighborhood column and a WnvPresent column and adds a column\"\"\"\n",
    "    d = {\"O'Hare\": 'high',\n",
    "     'South Deering': 'high',\n",
    "     'Dunning': 'high',\n",
    "     'Fringe': 'high',\n",
    "     'Norwood Park': 'high',\n",
    "     'New City': 'medium',\n",
    "     'Calumet Heights': 'medium',\n",
    "     'Humboldt Park': 'medium',\n",
    "     'Sauganash,Forest Glen': 'medium',\n",
    "     'Portage Park': 'medium',\n",
    "     'Edison Park': 'medium',\n",
    "     'Belmont Cragin': 'medium',\n",
    "     'Hegewisch': 'medium',\n",
    "     'Clearing': 'medium',\n",
    "     'Little Italy, UIC': 'medium',\n",
    "     'Mount Greenwood': 'medium',\n",
    "     'Ashburn': 'medium',\n",
    "     'Beverly': 'medium',\n",
    "     'Lincoln Park': 'medium',\n",
    "     'Grand Crossing': 'medium',\n",
    "     'Archer Heights': 'medium',\n",
    "     'West Ridge': 'medium',\n",
    "     'East Side': 'medium',\n",
    "     'Morgan Park': 'medium',\n",
    "     'Irving Park': 'medium',\n",
    "     'North Park': 'medium',\n",
    "     'Chicago Lawn': 'medium',\n",
    "     'Austin': 'medium',\n",
    "     'Galewood': 'medium',\n",
    "     'Little Village': 'medium',\n",
    "     'Washington Heights': 'medium',\n",
    "     'Woodlawn': 'medium',\n",
    "     'Lincoln Square': 'medium',\n",
    "     'Auburn Gresham': 'medium',\n",
    "     'Ukrainian Village': 'medium',\n",
    "     'Burnside': 'medium',\n",
    "     'Avondale': 'medium',\n",
    "     'Englewood': 'medium',\n",
    "     'Edgewater': 'medium',\n",
    "     'Grand Boulevard': 'low',\n",
    "     'South Chicago': 'low',\n",
    "     'North Lawndale': 'low',\n",
    "     'Chatham': 'low',\n",
    "     'Wicker Park': 'low',\n",
    "     'Avalon Park': 'low',\n",
    "     'Garfield Ridge': 'low',\n",
    "     'South Shore': 'low',\n",
    "     'Riverdale': 'low',\n",
    "     'West Town': 'low',\n",
    "     'Roseland': 'low',\n",
    "     'Lake View': 'low',\n",
    "     'Pullman': 'low',\n",
    "     'Gage Park': 'low',\n",
    "     'Montclare': 'low',\n",
    "     'Mckinley Park': 'low',\n",
    "     'Loop': 'low',\n",
    "     'Rogers Park': 'none',\n",
    "     'Bridgeport': 'none',\n",
    "     'Hyde Park': 'none',\n",
    "     'Garfield Park': 'none',\n",
    "     'Streeterville': 'none',\n",
    "     'Washington Park': 'none',\n",
    "     'Lower West Side': 'none',\n",
    "     'Logan Square': 'none',\n",
    "     'Printers Row': 'none'}\n",
    "    \n",
    "    df['neighborhood_infection_category'] = df['neighborhood'].map(d)\n",
    "    return df\n",
    "\n",
    "practice_df = pd.read_csv(\"/Users/jswithers/ga-dsi/project4-group2/assets/train_with_neighborhoods.csv\", index_col=0)\n",
    "\n",
    "practice_df = add_neighborhood_infection_column(practice_df)\n",
    "\n",
    "practice_df.head(2)"
   ]
  },
  {
   "cell_type": "markdown",
   "metadata": {},
   "source": [
    "## 4. Modeling\n",
    "### SVM attempt"
   ]
  },
  {
   "cell_type": "code",
   "execution_count": 41,
   "metadata": {},
   "outputs": [
    {
     "name": "stdout",
     "output_type": "stream",
     "text": [
      "master_train_shape:  (9686, 28)\n",
      "\n",
      "\n",
      "Columns in input dataset: \n",
      "['address', 'block', 'street', 'trap', 'addressnumberandstreet', 'latitude', 'longitude', 'addressaccuracy', 'nummosquitos', 'wnvpresent', 'neighborhood', 'dtdate', 'species_culex_pipiens', 'species_culex_pipiens_restuans', 'species_culex_restuans', 'neighborhood_infection_category_high', 'neighborhood_infection_category_low', 'neighborhood_infection_category_medium', 'neighborhood_infection_category_none', 'park_score', 'daylight', 'avg_tavg', 'avg_preciptotal', 'avg_avgspeed', 'timelaggeddaylight', 'timelaggedtemperature', 'timelaggedprecipitation', 'timelaggedwindspeed', 'month_6', 'month_7', 'month_8', 'month_9', 'month_10']\n",
      " \n",
      "Features and types:\n",
      "species_culex_pipiens                       int64\n",
      "species_culex_pipiens_restuans              int64\n",
      "species_culex_restuans                      int64\n",
      "neighborhood_infection_category_high        int64\n",
      "neighborhood_infection_category_low         int64\n",
      "neighborhood_infection_category_medium      int64\n",
      "neighborhood_infection_category_none        int64\n",
      "park_score                                float64\n",
      "daylight                                    int64\n",
      "avg_tavg                                  float64\n",
      "avg_preciptotal                           float64\n",
      "avg_avgspeed                              float64\n",
      "timelaggeddaylight                        float64\n",
      "timelaggedtemperature                     float64\n",
      "timelaggedprecipitation                   float64\n",
      "timelaggedwindspeed                       float64\n",
      "month_6                                     uint8\n",
      "month_7                                     uint8\n",
      "month_8                                     uint8\n",
      "month_9                                     uint8\n",
      "month_10                                    uint8\n",
      "dtype: object \n",
      "--------\n",
      "SVC results: \n",
      "Cross-val score:  [ 0.88159252  0.87496103  0.8840401   0.87411086  0.86984729]\n",
      " \n",
      "Test score:  0.815920103468\n"
     ]
    },
    {
     "data": {
      "image/png": "[encoded data removed]",
      "text/plain": [
       "<matplotlib.figure.Figure at 0x1111c1a90>"
      ]
     },
     "metadata": {},
     "output_type": "display_data"
    }
   ],
   "source": [
    "from sklearn.model_selection import train_test_split\n",
    "\n",
    "from sklearn.preprocessing import StandardScaler\n",
    "from sklearn.linear_model import LogisticRegression\n",
    "from imblearn.over_sampling import SMOTE, RandomOverSampler\n",
    "from sklearn.svm import SVC\n",
    "from sklearn.metrics import confusion_matrix, roc_auc_score\n",
    "from sklearn.model_selection import cross_val_score\n",
    "\n",
    "import matplotlib.pyplot as plt\n",
    "import seaborn as sns\n",
    "%matplotlib inline\n",
    "\n",
    "master_train = pd.read_csv(\"assets/master_clean_train.csv\", index_col=0)\n",
    "\n",
    "print(\"master_train_shape: \", master_train.shape)\n",
    "print(\"\\n\")\n",
    "\n",
    "master_train['dtdate'] = pd.to_datetime(master_train['dtdate'])\n",
    "\n",
    "master_train['month'] = master_train['dtdate'].dt.month\n",
    "\n",
    "master_train = pd.get_dummies(master_train, columns=['month'], drop_first=True)\n",
    "\n",
    "print(\"Columns in input dataset: \")\n",
    "print(list(master_train.columns))\n",
    "\n",
    "target = 'wnvpresent'\n",
    "features = ['species_culex_pipiens',\n",
    "       'species_culex_pipiens_restuans', 'species_culex_restuans',\n",
    "       'neighborhood_infection_category_high',\n",
    "       'neighborhood_infection_category_low',\n",
    "       'neighborhood_infection_category_medium',\n",
    "       'neighborhood_infection_category_none', 'park_score', 'daylight',\n",
    "       'avg_tavg', 'avg_preciptotal', 'avg_avgspeed', 'timelaggeddaylight',\n",
    "       'timelaggedtemperature', 'timelaggedprecipitation',\n",
    "       'timelaggedwindspeed', 'month_6', 'month_7', 'month_8', 'month_9',\n",
    "       'month_10']\n",
    "X = master_train[features]\n",
    "y = master_train[target]\n",
    "\n",
    "print(\" \")\n",
    "print(\"Features and types:\")\n",
    "print(X.dtypes, \"\\n--------\")\n",
    "\n",
    "ros = RandomOverSampler()\n",
    "\n",
    "X_res, y_res = ros.fit_sample(X, y)\n",
    "\n",
    "X_train, X_test, y_train, y_test = train_test_split(X_res, y_res)\n",
    "# X_train, X_test, y_train, y_test = train_test_split(X, y)\n",
    "\n",
    "ss = StandardScaler()\n",
    "\n",
    "X_train = ss.fit_transform(X_train)\n",
    "X_test = ss.transform(X_test)\n",
    "\n",
    "supvec = SVC(probability=True)\n",
    "\n",
    "\n",
    "supvec.fit(X_train, y_train)\n",
    "print(\"SVC results: \")\n",
    "print(\"Cross-val score: \", cross_val_score(supvec, X_train, y_train, cv = 5, scoring=\"roc_auc\"))\n",
    "print(\" \")\n",
    "print(\"Test score: \", roc_auc_score(y_test, supvec.predict(X_test)))\n",
    "\n",
    "predictions = supvec.predict_proba(X_test)\n",
    "\n",
    "pos_predictions = [i[1] for i in predictions]\n",
    "\n",
    "sns.heatmap(confusion_matrix(y_test, supvec.predict(X_test)), annot = True, fmt = \"g\")\n",
    "plt.show()\n",
    "\n",
    "import pickle\n",
    "\n",
    "filename = 'support_vector_model.pkl'\n",
    "pickle.dump(supvec, open(filename, 'wb'))"
   ]
  },
  {
   "cell_type": "code",
   "execution_count": 42,
   "metadata": {},
   "outputs": [
    {
     "name": "stdout",
     "output_type": "stream",
     "text": [
      "master_test_shape:  (116293, 27)\n",
      "\n",
      "\n",
      "Columns in output dataset: \n",
      "['date', 'address', 'block', 'street', 'trap', 'addressnumberandstreet', 'latitude', 'longitude', 'addressaccuracy', 'neighborhood', 'dtdate', 'species_culex_pipiens', 'species_culex_pipiens_restuans', 'species_culex_restuans', 'neighborhood_infection_category_high', 'neighborhood_infection_category_low', 'neighborhood_infection_category_medium', 'neighborhood_infection_category_none', 'park_score', 'daylight', 'avg_tavg', 'avg_preciptotal', 'avg_avgspeed', 'timelaggeddaylight', 'timelaggedtemperature', 'timelaggedprecipitation', 'timelaggedwindspeed', 'month_7', 'month_8', 'month_9', 'month_10', 'month_6']\n",
      "\n",
      "Columns in input dataset: \n",
      "['address', 'block', 'street', 'trap', 'addressnumberandstreet', 'latitude', 'longitude', 'addressaccuracy', 'nummosquitos', 'wnvpresent', 'neighborhood', 'dtdate', 'species_culex_pipiens', 'species_culex_pipiens_restuans', 'species_culex_restuans', 'neighborhood_infection_category_high', 'neighborhood_infection_category_low', 'neighborhood_infection_category_medium', 'neighborhood_infection_category_none', 'park_score', 'daylight', 'avg_tavg', 'avg_preciptotal', 'avg_avgspeed', 'timelaggeddaylight', 'timelaggedtemperature', 'timelaggedprecipitation', 'timelaggedwindspeed', 'month_6', 'month_7', 'month_8', 'month_9', 'month_10']\n",
      " \n",
      "Features and types:\n",
      "species_culex_pipiens                       int64\n",
      "species_culex_pipiens_restuans              int64\n",
      "species_culex_restuans                      int64\n",
      "neighborhood_infection_category_high        int64\n",
      "neighborhood_infection_category_low         int64\n",
      "neighborhood_infection_category_medium      int64\n",
      "neighborhood_infection_category_none        int64\n",
      "park_score                                float64\n",
      "daylight                                    int64\n",
      "avg_tavg                                  float64\n",
      "avg_preciptotal                           float64\n",
      "avg_avgspeed                              float64\n",
      "timelaggeddaylight                        float64\n",
      "timelaggedtemperature                     float64\n",
      "timelaggedprecipitation                   float64\n",
      "timelaggedwindspeed                       float64\n",
      "month_6                                     int64\n",
      "month_7                                     uint8\n",
      "month_8                                     uint8\n",
      "month_9                                     uint8\n",
      "month_10                                    uint8\n",
      "dtype: object \n",
      "--------\n"
     ]
    }
   ],
   "source": [
    "master_test = pd.read_csv(\"assets/master_clean_test.csv\", index_col=0)\n",
    "\n",
    "print(\"master_test_shape: \", master_test.shape)\n",
    "print(\"\\n\")\n",
    "\n",
    "master_test['dtdate'] = pd.to_datetime(master_test['dtdate'])\n",
    "\n",
    "master_test['month'] = master_test['dtdate'].dt.month\n",
    "\n",
    "master_test = pd.get_dummies(master_test, columns=['month'], drop_first=True)\n",
    "master_test['month_6'] = 0\n",
    "\n",
    "print(\"Columns in output dataset: \")\n",
    "print(list(master_test.columns))\n",
    "print(\"\")\n",
    "print(\"Columns in input dataset: \")\n",
    "print(list(master_train.columns))\n",
    "\n",
    "X_val = master_test[features]\n",
    "\n",
    "print(\" \")\n",
    "print(\"Features and types:\")\n",
    "print(X_val.dtypes, \"\\n--------\")"
   ]
  },
  {
   "cell_type": "code",
   "execution_count": 43,
   "metadata": {},
   "outputs": [],
   "source": [
    "def output_to_kaggle(test_df, X, model, filename):\n",
    "    p_array = model.predict_proba(X)\n",
    "    p_series = pd.Series(p_array[:,1])\n",
    "    out_df = pd.concat([test_df.index.to_series().reset_index(drop=True),p_series], axis=1)\n",
    "    out_df.columns = ['Id', 'WnvPresent']\n",
    "    out_df.to_csv(filename, header=True, index=False)\n",
    "    return out_df\n",
    "import time"
   ]
  },
  {
   "cell_type": "code",
   "execution_count": 44,
   "metadata": {},
   "outputs": [],
   "source": [
    "outfilename = r'kagglesubmission'+ '_' + time.strftime('%Y-%m-%d_%H-%M-%S', time.localtime()) + '.csv'\n",
    "out_df = output_to_kaggle(master_test, X_val, supvec, outfilename)"
   ]
  },
  {
   "cell_type": "markdown",
   "metadata": {},
   "source": [
    "### Neural Network model"
   ]
  },
  {
   "cell_type": "code",
   "execution_count": 45,
   "metadata": {},
   "outputs": [
    {
     "name": "stderr",
     "output_type": "stream",
     "text": [
      "Using TensorFlow backend.\n"
     ]
    },
    {
     "name": "stdout",
     "output_type": "stream",
     "text": [
      "master_train_shape:  (9686, 28)\n",
      "\n",
      "\n",
      "Columns in input dataset: \n",
      "['address', 'block', 'street', 'trap', 'addressnumberandstreet', 'latitude', 'longitude', 'addressaccuracy', 'nummosquitos', 'wnvpresent', 'neighborhood', 'dtdate', 'species_culex_pipiens', 'species_culex_pipiens_restuans', 'species_culex_restuans', 'neighborhood_infection_category_high', 'neighborhood_infection_category_low', 'neighborhood_infection_category_medium', 'neighborhood_infection_category_none', 'park_score', 'daylight', 'avg_tavg', 'avg_preciptotal', 'avg_avgspeed', 'timelaggeddaylight', 'timelaggedtemperature', 'timelaggedprecipitation', 'timelaggedwindspeed', 'month_6', 'month_7', 'month_8', 'month_9', 'month_10']\n",
      " \n",
      "Features and types:\n",
      "species_culex_pipiens                       int64\n",
      "species_culex_pipiens_restuans              int64\n",
      "species_culex_restuans                      int64\n",
      "neighborhood_infection_category_high        int64\n",
      "neighborhood_infection_category_low         int64\n",
      "neighborhood_infection_category_medium      int64\n",
      "neighborhood_infection_category_none        int64\n",
      "park_score                                float64\n",
      "daylight                                    int64\n",
      "avg_tavg                                  float64\n",
      "avg_preciptotal                           float64\n",
      "avg_avgspeed                              float64\n",
      "timelaggeddaylight                        float64\n",
      "timelaggedtemperature                     float64\n",
      "timelaggedprecipitation                   float64\n",
      "timelaggedwindspeed                       float64\n",
      "month_6                                     uint8\n",
      "month_7                                     uint8\n",
      "month_8                                     uint8\n",
      "month_9                                     uint8\n",
      "month_10                                    uint8\n",
      "dtype: object \n",
      "--------\n"
     ]
    }
   ],
   "source": [
    "from sklearn.model_selection import train_test_split\n",
    "\n",
    "from sklearn.preprocessing import StandardScaler\n",
    "from sklearn.linear_model import LogisticRegression\n",
    "from imblearn.over_sampling import SMOTE, RandomOverSampler\n",
    "from sklearn.svm import SVC\n",
    "from sklearn.metrics import confusion_matrix, roc_auc_score\n",
    "from sklearn.model_selection import cross_val_score\n",
    "\n",
    "from keras.models import Sequential\n",
    "from keras.layers import Dense\n",
    "from keras import regularizers\n",
    "\n",
    "import matplotlib.pyplot as plt\n",
    "import seaborn as sns\n",
    "%matplotlib inline\n",
    "\n",
    "master_train = pd.read_csv(\"assets/master_clean_train.csv\", index_col=0)\n",
    "\n",
    "print(\"master_train_shape: \", master_train.shape)\n",
    "print(\"\\n\")\n",
    "\n",
    "master_train['dtdate'] = pd.to_datetime(master_train['dtdate'])\n",
    "\n",
    "master_train['month'] = master_train['dtdate'].dt.month\n",
    "\n",
    "master_train = pd.get_dummies(master_train, columns=['month'], drop_first=True)\n",
    "\n",
    "print(\"Columns in input dataset: \")\n",
    "print(list(master_train.columns))\n",
    "\n",
    "target = 'wnvpresent'\n",
    "features = ['species_culex_pipiens',\n",
    "       'species_culex_pipiens_restuans', 'species_culex_restuans',\n",
    "       'neighborhood_infection_category_high',\n",
    "       'neighborhood_infection_category_low',\n",
    "       'neighborhood_infection_category_medium',\n",
    "       'neighborhood_infection_category_none', 'park_score', 'daylight',\n",
    "       'avg_tavg', 'avg_preciptotal', 'avg_avgspeed', 'timelaggeddaylight',\n",
    "       'timelaggedtemperature', 'timelaggedprecipitation',\n",
    "       'timelaggedwindspeed', 'month_6', 'month_7', 'month_8', 'month_9',\n",
    "       'month_10']\n",
    "X = master_train[features]\n",
    "y = master_train[target]\n",
    "\n",
    "print(\" \")\n",
    "print(\"Features and types:\")\n",
    "print(X.dtypes, \"\\n--------\")\n",
    "\n",
    "ros = RandomOverSampler(ratio = 'minority')\n",
    "\n",
    "X_res, y_res = ros.fit_sample(X, y)\n",
    "\n",
    "X_train, X_test, y_train, y_test = train_test_split(X_res, y_res)\n",
    "# X_train, X_test, y_train, y_test = train_test_split(X, y)\n",
    "\n",
    "ss = StandardScaler()\n",
    "\n",
    "X_train = ss.fit_transform(X_train)\n",
    "X_test = ss.transform(X_test)"
   ]
  },
  {
   "cell_type": "code",
   "execution_count": 46,
   "metadata": {},
   "outputs": [],
   "source": [
    "model = Sequential()\n",
    "n_input = X_train.shape[1]\n",
    "n_hidden = n_input\n",
    "n_output = 1\n",
    "\n",
    "model.add(Dense(n_hidden, input_dim = n_input, activation = 'relu', kernel_regularizer=regularizers.l2(0.01)))\n",
    "# model.add(Dense(n_hidden , activation = 'relu', kernel_regularizer=regularizers.l2(0.01)))\n",
    "model.add(Dense(n_output, activation = 'sigmoid', kernel_regularizer=regularizers.l2(0.01)))"
   ]
  },
  {
   "cell_type": "code",
   "execution_count": 47,
   "metadata": {},
   "outputs": [],
   "source": [
    "model.compile(loss='binary_crossentropy', optimizer = 'adam')"
   ]
  },
  {
   "cell_type": "code",
   "execution_count": 48,
   "metadata": {},
   "outputs": [],
   "source": [
    "history = model.fit(X_train, y_train, validation_data = (X_test, y_test),\n",
    "                    epochs = 100, batch_size = None, verbose = 0) # after testing this makes sense not to show mki m"
   ]
  },
  {
   "cell_type": "code",
   "execution_count": 49,
   "metadata": {},
   "outputs": [
    {
     "data": {
      "text/plain": [
       "<matplotlib.legend.Legend at 0x1a19475b00>"
      ]
     },
     "execution_count": 49,
     "metadata": {},
     "output_type": "execute_result"
    },
    {
     "data": {
      "image/png": "[encoded data removed]",
      "text/plain": [
       "<matplotlib.figure.Figure at 0x1a1940b128>"
      ]
     },
     "metadata": {},
     "output_type": "display_data"
    }
   ],
   "source": [
    "train_loss = history.history['loss']\n",
    "test_loss = history.history['val_loss']\n",
    "plt.plot(train_loss, label = 'Training Loss')\n",
    "plt.plot(test_loss, label = 'Test Loss')\n",
    "plt.legend()"
   ]
  },
  {
   "cell_type": "code",
   "execution_count": 50,
   "metadata": {},
   "outputs": [
    {
     "name": "stdout",
     "output_type": "stream",
     "text": [
      "master_test_shape:  (116293, 27)\n",
      "\n",
      "\n",
      "Columns in output dataset: \n",
      "['date', 'address', 'block', 'street', 'trap', 'addressnumberandstreet', 'latitude', 'longitude', 'addressaccuracy', 'neighborhood', 'dtdate', 'species_culex_pipiens', 'species_culex_pipiens_restuans', 'species_culex_restuans', 'neighborhood_infection_category_high', 'neighborhood_infection_category_low', 'neighborhood_infection_category_medium', 'neighborhood_infection_category_none', 'park_score', 'daylight', 'avg_tavg', 'avg_preciptotal', 'avg_avgspeed', 'timelaggeddaylight', 'timelaggedtemperature', 'timelaggedprecipitation', 'timelaggedwindspeed', 'month_7', 'month_8', 'month_9', 'month_10', 'month_6']\n",
      "\n",
      "Columns in input dataset: \n",
      "['address', 'block', 'street', 'trap', 'addressnumberandstreet', 'latitude', 'longitude', 'addressaccuracy', 'nummosquitos', 'wnvpresent', 'neighborhood', 'dtdate', 'species_culex_pipiens', 'species_culex_pipiens_restuans', 'species_culex_restuans', 'neighborhood_infection_category_high', 'neighborhood_infection_category_low', 'neighborhood_infection_category_medium', 'neighborhood_infection_category_none', 'park_score', 'daylight', 'avg_tavg', 'avg_preciptotal', 'avg_avgspeed', 'timelaggeddaylight', 'timelaggedtemperature', 'timelaggedprecipitation', 'timelaggedwindspeed', 'month_6', 'month_7', 'month_8', 'month_9', 'month_10']\n",
      " \n",
      "Features and types:\n",
      "species_culex_pipiens                       int64\n",
      "species_culex_pipiens_restuans              int64\n",
      "species_culex_restuans                      int64\n",
      "neighborhood_infection_category_high        int64\n",
      "neighborhood_infection_category_low         int64\n",
      "neighborhood_infection_category_medium      int64\n",
      "neighborhood_infection_category_none        int64\n",
      "park_score                                float64\n",
      "daylight                                    int64\n",
      "avg_tavg                                  float64\n",
      "avg_preciptotal                           float64\n",
      "avg_avgspeed                              float64\n",
      "timelaggeddaylight                        float64\n",
      "timelaggedtemperature                     float64\n",
      "timelaggedprecipitation                   float64\n",
      "timelaggedwindspeed                       float64\n",
      "month_6                                     int64\n",
      "month_7                                     uint8\n",
      "month_8                                     uint8\n",
      "month_9                                     uint8\n",
      "month_10                                    uint8\n",
      "dtype: object \n",
      "--------\n"
     ]
    }
   ],
   "source": [
    "master_test = pd.read_csv(\"assets/master_clean_test.csv\", index_col=0)\n",
    "\n",
    "print(\"master_test_shape: \", master_test.shape)\n",
    "print(\"\\n\")\n",
    "\n",
    "master_test['dtdate'] = pd.to_datetime(master_test['dtdate'])\n",
    "\n",
    "master_test['month'] = master_test['dtdate'].dt.month\n",
    "\n",
    "master_test = pd.get_dummies(master_test, columns=['month'], drop_first=True)\n",
    "master_test['month_6'] = 0\n",
    "\n",
    "print(\"Columns in output dataset: \")\n",
    "print(list(master_test.columns))\n",
    "print(\"\")\n",
    "print(\"Columns in input dataset: \")\n",
    "print(list(master_train.columns))\n",
    "\n",
    "X_val = master_test[features]\n",
    "\n",
    "print(\" \")\n",
    "print(\"Features and types:\")\n",
    "print(X_val.dtypes, \"\\n--------\")"
   ]
  },
  {
   "cell_type": "code",
   "execution_count": 51,
   "metadata": {},
   "outputs": [],
   "source": [
    "def nn_output_to_kaggle(test_df, X, model, filename):\n",
    "    p = [float(i) for i in model.predict_proba(X)]\n",
    "    p = pd.Series(p)\n",
    "    out_df = pd.concat([test_df.index.to_series().reset_index(drop=True),p], axis=1)\n",
    "    out_df.columns = ['Id', 'WnvPresent']\n",
    "    out_df.to_csv(filename, header=True, index=False)\n",
    "    return out_df\n",
    "import time"
   ]
  },
  {
   "cell_type": "code",
   "execution_count": 52,
   "metadata": {},
   "outputs": [],
   "source": [
    "outfilename = r'kagglesubmission'+ '_' + time.strftime('%Y-%m-%d_%H-%M-%S', time.localtime()) + '.csv'\n",
    "out_df = nn_output_to_kaggle(master_test, X_val, model, outfilename)"
   ]
  },
  {
   "cell_type": "markdown",
   "metadata": {},
   "source": [
    "## 5. Preparation for import-and-clean.py \n",
    "1. Turn Date into datetime type\n",
    "2. Consider the following columns redundant? (Address, Block, Street, Address number and Street, Address Accuracy)\n",
    "3. Bring in other data to make better use of the location information\n",
    "4. Transform Latitude and Longitude information into a more useful form (distance to water, neighborhood, distance from other points?) **NOTE: THE LATITUDE AND LONGITUDE INFORMATION IS DERIVED FROM THE ADDRESS INFORMATION ACCORDING TO THE KAGGLE DESCRIPTION**\n",
    "\n",
    "***These steps will each be implemented as a function, and a general cleaning function will gather them all together.***"
   ]
  },
  {
   "cell_type": "code",
   "execution_count": 53,
   "metadata": {},
   "outputs": [],
   "source": [
    "def make_datetime(dataframe, date_col):\n",
    "    pd.to_datetime(dataframe[date_col])"
   ]
  },
  {
   "cell_type": "code",
   "execution_count": 54,
   "metadata": {},
   "outputs": [
    {
     "data": {
      "text/plain": [
       "<matplotlib.figure.Figure at 0x1a1777c358>"
      ]
     },
     "metadata": {},
     "output_type": "display_data"
    }
   ],
   "source": [
    "%run utilities/my_neighborhood_maker.py"
   ]
  },
  {
   "cell_type": "code",
   "execution_count": 55,
   "metadata": {},
   "outputs": [
    {
     "data": {
      "text/plain": [
       "'Dunning'"
      ]
     },
     "execution_count": 55,
     "metadata": {},
     "output_type": "execute_result"
    }
   ],
   "source": [
    "get_neighborhood_for_point(train_df['Latitude'][0], train_df['Longitude'][0])"
   ]
  },
  {
   "cell_type": "markdown",
   "metadata": {},
   "source": [
    "### The code below creates new neighborhood columns. It is intensive to run."
   ]
  },
  {
   "cell_type": "code",
   "execution_count": 56,
   "metadata": {},
   "outputs": [],
   "source": [
    "# neighborhood_col = []\n",
    "# for i in range(len(train_df['Latitude'])):\n",
    "#     neighborhood_col.append(get_neighborhood_for_point(train_df['Latitude'][i], train_df['Longitude'][i]))\n",
    "\n",
    "# len(neighborhood_col), train_df.shape[0]\n",
    "\n",
    "# train_df['neighborhood'] = neighborhood_col\n",
    "\n",
    "# train_df[train_df['neighborhood']=='Fringe']\n",
    "\n",
    "# train_df.to_csv(\"train_with_neighborhoods.csv\")\n",
    "\n",
    "# neighborhood_col = []\n",
    "# for i in range(len(test_df['Latitude'])):\n",
    "#     neighborhood_col.append(get_neighborhood_for_point(test_df['Latitude'][i], test_df['Longitude'][i]))\n",
    "# test_df['neighborhood'] = neighborhood_col\n",
    "\n",
    "# test_df.to_csv('test_with_neighborhoods.csv')\n",
    "\n",
    "## Neighborhoods missing in train: Hermosa and West Pullman \n"
   ]
  },
  {
   "cell_type": "markdown",
   "metadata": {},
   "source": [
    "**Instead of using the function every time this notebook is run, here we just load in the output from the above:**"
   ]
  },
  {
   "cell_type": "code",
   "execution_count": 78,
   "metadata": {},
   "outputs": [],
   "source": [
    "train_df = pd.read_csv('assets/train_with_neighborhoods.csv', index_col=0)"
   ]
  },
  {
   "cell_type": "code",
   "execution_count": 79,
   "metadata": {},
   "outputs": [
    {
     "data": {
      "text/plain": [
       "65"
      ]
     },
     "execution_count": 79,
     "metadata": {},
     "output_type": "execute_result"
    }
   ],
   "source": [
    "len(train_df['neighborhood'].unique())"
   ]
  },
  {
   "cell_type": "code",
   "execution_count": 80,
   "metadata": {},
   "outputs": [],
   "source": [
    "total_per_neighborhood_df = train_df.groupby('neighborhood').sum()[['WnvPresent','NumMosquitos']]"
   ]
  },
  {
   "cell_type": "code",
   "execution_count": 85,
   "metadata": {},
   "outputs": [
    {
     "data": {
      "text/plain": [
       "<matplotlib.figure.Figure at 0x1107ebeb8>"
      ]
     },
     "metadata": {},
     "output_type": "display_data"
    }
   ],
   "source": [
    "import matplotlib.pyplot as plt\n",
    "import seaborn as sns\n",
    "%matplotlib inline\n",
    "plt.gcf().clear()\n",
    "plt.style.use('seaborn-deep')"
   ]
  },
  {
   "cell_type": "code",
   "execution_count": 86,
   "metadata": {},
   "outputs": [
    {
     "data": {
      "image/png": "[encoded data removed]",
      "text/plain": [
       "<matplotlib.figure.Figure at 0x1a18e7e518>"
      ]
     },
     "metadata": {},
     "output_type": "display_data"
    }
   ],
   "source": [
    "sns.distplot(total_per_neighborhood_df['WnvPresent'], kde = False)\n",
    "plt.title(\"Distribution of Wnv Per Neighborhood\")\n",
    "plt.xlabel('Number of Infected Mosquitos')\n",
    "plt.savefig('assets/visualizations/wnvnbh.png')"
   ]
  },
  {
   "cell_type": "markdown",
   "metadata": {},
   "source": [
    "*There are two neighborhoods that have lots of West Nile.*"
   ]
  },
  {
   "cell_type": "code",
   "execution_count": 87,
   "metadata": {},
   "outputs": [
    {
     "data": {
      "image/png": "[encoded data removed]",
      "text/plain": [
       "<matplotlib.figure.Figure at 0x1107fd518>"
      ]
     },
     "metadata": {},
     "output_type": "display_data"
    }
   ],
   "source": [
    "sns.regplot(total_per_neighborhood_df['WnvPresent'], total_per_neighborhood_df['NumMosquitos'])\n",
    "plt.title('Infected Mosquitos v Total by Neighborhood')\n",
    "plt.xlabel('Infected Mosquitos')\n",
    "plt.ylabel('Total Mosquitos')\n",
    "plt.savefig('assets/visualizations/inf_v_total.png')"
   ]
  },
  {
   "cell_type": "markdown",
   "metadata": {},
   "source": [
    "*Again, this number seems to really stand out for about 5 of the neighborhoods.*"
   ]
  },
  {
   "cell_type": "code",
   "execution_count": 88,
   "metadata": {},
   "outputs": [
    {
     "data": {
      "image/png": "[encoded data removed]",
      "text/plain": [
       "<matplotlib.figure.Figure at 0x11080f710>"
      ]
     },
     "metadata": {},
     "output_type": "display_data"
    },
    {
     "data": {
      "text/plain": [
       "<matplotlib.figure.Figure at 0x11086d978>"
      ]
     },
     "metadata": {},
     "output_type": "display_data"
    }
   ],
   "source": [
    "\n",
    "from pandas.plotting import table\n",
    "\n",
    "plt.plot([1])\n",
    "ax = plt.subplot(111, frame_on=False) # no visible frame\n",
    "\n",
    "ax.xaxis.set_visible(False)  # hide the x axis\n",
    "ax.yaxis.set_visible(False)  # hide the y axis\n",
    "\n",
    "table(ax, total_per_neighborhood_df.sort_values(by = 'WnvPresent', ascending=False).head(10))  # where df is your data frame\n",
    "plt.show()\n",
    "plt.savefig('assets/visualizations/top_neighborhoods_wnv.png')"
   ]
  },
  {
   "cell_type": "markdown",
   "metadata": {},
   "source": [
    "*Top 10 neighborhoods by West Nile*"
   ]
  },
  {
   "cell_type": "code",
   "execution_count": 64,
   "metadata": {},
   "outputs": [
    {
     "data": {
      "image/png": "[encoded data removed]",
      "text/plain": [
       "<matplotlib.figure.Figure at 0x110d4ee48>"
      ]
     },
     "metadata": {},
     "output_type": "display_data"
    }
   ],
   "source": [
    "plt.plot([1])\n",
    "ax = plt.subplot(111, frame_on=False) # no visible frame\n",
    "\n",
    "ax.xaxis.set_visible(False)  # hide the x axis\n",
    "ax.yaxis.set_visible(False)  # hide the y axis\n",
    "\n",
    "table(ax, total_per_neighborhood_df.sort_values(by = 'NumMosquitos', ascending=False).head(10))  # where df is your data frame\n",
    "\n",
    "plt.savefig('assets/visualizations/top_neighborhoods_nummos.png')\n"
   ]
  },
  {
   "cell_type": "markdown",
   "metadata": {},
   "source": [
    "*Top 10 neighborhoods by NumMosquitos. Notice that South Deering and O'Hare have switched rankings. South Deering has more mosquitos but less virus... could the airport itself be a problem?*\n",
    "\n",
    "*Also, is Calumet Heights a success story? What about the number of non-disease carrying mosquitos?*"
   ]
  },
  {
   "cell_type": "code",
   "execution_count": 90,
   "metadata": {},
   "outputs": [
    {
     "data": {
      "text/html": [
       "<div>\n",
       "<style scoped>\n",
       "    .dataframe tbody tr th:only-of-type {\n",
       "        vertical-align: middle;\n",
       "    }\n",
       "\n",
       "    .dataframe tbody tr th {\n",
       "        vertical-align: top;\n",
       "    }\n",
       "\n",
       "    .dataframe thead th {\n",
       "        text-align: right;\n",
       "    }\n",
       "</style>\n",
       "<table border=\"1\" class=\"dataframe\">\n",
       "  <thead>\n",
       "    <tr style=\"text-align: right;\">\n",
       "      <th></th>\n",
       "      <th>NumMosquitos</th>\n",
       "      <th>WnvPresent</th>\n",
       "    </tr>\n",
       "    <tr>\n",
       "      <th>Species</th>\n",
       "      <th></th>\n",
       "      <th></th>\n",
       "    </tr>\n",
       "  </thead>\n",
       "  <tbody>\n",
       "    <tr>\n",
       "      <th>CULEX PIPIENS/RESTUANS</th>\n",
       "      <td>66268</td>\n",
       "      <td>262</td>\n",
       "    </tr>\n",
       "    <tr>\n",
       "      <th>CULEX PIPIENS</th>\n",
       "      <td>44671</td>\n",
       "      <td>240</td>\n",
       "    </tr>\n",
       "    <tr>\n",
       "      <th>CULEX RESTUANS</th>\n",
       "      <td>23431</td>\n",
       "      <td>49</td>\n",
       "    </tr>\n",
       "    <tr>\n",
       "      <th>CULEX ERRATICUS</th>\n",
       "      <td>7</td>\n",
       "      <td>0</td>\n",
       "    </tr>\n",
       "    <tr>\n",
       "      <th>CULEX SALINARIUS</th>\n",
       "      <td>145</td>\n",
       "      <td>0</td>\n",
       "    </tr>\n",
       "    <tr>\n",
       "      <th>CULEX TARSALIS</th>\n",
       "      <td>7</td>\n",
       "      <td>0</td>\n",
       "    </tr>\n",
       "    <tr>\n",
       "      <th>CULEX TERRITANS</th>\n",
       "      <td>510</td>\n",
       "      <td>0</td>\n",
       "    </tr>\n",
       "  </tbody>\n",
       "</table>\n",
       "</div>"
      ],
      "text/plain": [
       "                        NumMosquitos  WnvPresent\n",
       "Species                                         \n",
       "CULEX PIPIENS/RESTUANS         66268         262\n",
       "CULEX PIPIENS                  44671         240\n",
       "CULEX RESTUANS                 23431          49\n",
       "CULEX ERRATICUS                    7           0\n",
       "CULEX SALINARIUS                 145           0\n",
       "CULEX TARSALIS                     7           0\n",
       "CULEX TERRITANS                  510           0"
      ]
     },
     "execution_count": 90,
     "metadata": {},
     "output_type": "execute_result"
    }
   ],
   "source": [
    "train_df.groupby(\"Species\").sum()[['NumMosquitos','WnvPresent']].sort_values('WnvPresent', ascending = False)"
   ]
  },
  {
   "cell_type": "code",
   "execution_count": 66,
   "metadata": {},
   "outputs": [],
   "source": [
    "exploratory_df = train_df.groupby(['neighborhood', 'Species']).sum().reset_index()[['neighborhood','Species','NumMosquitos','WnvPresent']]"
   ]
  },
  {
   "cell_type": "code",
   "execution_count": 67,
   "metadata": {},
   "outputs": [
    {
     "data": {
      "text/plain": [
       "(262, 13)"
      ]
     },
     "execution_count": 67,
     "metadata": {},
     "output_type": "execute_result"
    }
   ],
   "source": [
    "train_df[(train_df['WnvPresent'] != 0) & (train_df['Species']==\"CULEX PIPIENS/RESTUANS\")].shape"
   ]
  },
  {
   "cell_type": "code",
   "execution_count": 68,
   "metadata": {},
   "outputs": [
    {
     "data": {
      "text/html": [
       "<div>\n",
       "<style scoped>\n",
       "    .dataframe tbody tr th:only-of-type {\n",
       "        vertical-align: middle;\n",
       "    }\n",
       "\n",
       "    .dataframe tbody tr th {\n",
       "        vertical-align: top;\n",
       "    }\n",
       "\n",
       "    .dataframe thead th {\n",
       "        text-align: right;\n",
       "    }\n",
       "</style>\n",
       "<table border=\"1\" class=\"dataframe\">\n",
       "  <thead>\n",
       "    <tr style=\"text-align: right;\">\n",
       "      <th></th>\n",
       "      <th>neighborhood</th>\n",
       "      <th>Species</th>\n",
       "      <th>NumMosquitos</th>\n",
       "      <th>WnvPresent</th>\n",
       "    </tr>\n",
       "  </thead>\n",
       "  <tbody>\n",
       "    <tr>\n",
       "      <th>208</th>\n",
       "      <td>O'Hare</td>\n",
       "      <td>CULEX PIPIENS/RESTUANS</td>\n",
       "      <td>9358</td>\n",
       "      <td>38</td>\n",
       "    </tr>\n",
       "    <tr>\n",
       "      <th>244</th>\n",
       "      <td>South Deering</td>\n",
       "      <td>CULEX PIPIENS</td>\n",
       "      <td>17713</td>\n",
       "      <td>37</td>\n",
       "    </tr>\n",
       "    <tr>\n",
       "      <th>207</th>\n",
       "      <td>O'Hare</td>\n",
       "      <td>CULEX PIPIENS</td>\n",
       "      <td>1758</td>\n",
       "      <td>20</td>\n",
       "    </tr>\n",
       "    <tr>\n",
       "      <th>60</th>\n",
       "      <td>Dunning</td>\n",
       "      <td>CULEX PIPIENS/RESTUANS</td>\n",
       "      <td>3233</td>\n",
       "      <td>18</td>\n",
       "    </tr>\n",
       "    <tr>\n",
       "      <th>203</th>\n",
       "      <td>Norwood Park</td>\n",
       "      <td>CULEX PIPIENS/RESTUANS</td>\n",
       "      <td>1521</td>\n",
       "      <td>17</td>\n",
       "    </tr>\n",
       "    <tr>\n",
       "      <th>83</th>\n",
       "      <td>Fringe</td>\n",
       "      <td>CULEX PIPIENS/RESTUANS</td>\n",
       "      <td>5091</td>\n",
       "      <td>16</td>\n",
       "    </tr>\n",
       "    <tr>\n",
       "      <th>245</th>\n",
       "      <td>South Deering</td>\n",
       "      <td>CULEX PIPIENS/RESTUANS</td>\n",
       "      <td>7445</td>\n",
       "      <td>15</td>\n",
       "    </tr>\n",
       "    <tr>\n",
       "      <th>59</th>\n",
       "      <td>Dunning</td>\n",
       "      <td>CULEX PIPIENS</td>\n",
       "      <td>931</td>\n",
       "      <td>15</td>\n",
       "    </tr>\n",
       "    <tr>\n",
       "      <th>41</th>\n",
       "      <td>Calumet Heights</td>\n",
       "      <td>CULEX PIPIENS</td>\n",
       "      <td>7464</td>\n",
       "      <td>14</td>\n",
       "    </tr>\n",
       "    <tr>\n",
       "      <th>82</th>\n",
       "      <td>Fringe</td>\n",
       "      <td>CULEX PIPIENS</td>\n",
       "      <td>1684</td>\n",
       "      <td>13</td>\n",
       "    </tr>\n",
       "  </tbody>\n",
       "</table>\n",
       "</div>"
      ],
      "text/plain": [
       "        neighborhood                 Species  NumMosquitos  WnvPresent\n",
       "208           O'Hare  CULEX PIPIENS/RESTUANS          9358          38\n",
       "244    South Deering           CULEX PIPIENS         17713          37\n",
       "207           O'Hare           CULEX PIPIENS          1758          20\n",
       "60           Dunning  CULEX PIPIENS/RESTUANS          3233          18\n",
       "203     Norwood Park  CULEX PIPIENS/RESTUANS          1521          17\n",
       "83            Fringe  CULEX PIPIENS/RESTUANS          5091          16\n",
       "245    South Deering  CULEX PIPIENS/RESTUANS          7445          15\n",
       "59           Dunning           CULEX PIPIENS           931          15\n",
       "41   Calumet Heights           CULEX PIPIENS          7464          14\n",
       "82            Fringe           CULEX PIPIENS          1684          13"
      ]
     },
     "execution_count": 68,
     "metadata": {},
     "output_type": "execute_result"
    }
   ],
   "source": [
    "exploratory_df[exploratory_df['WnvPresent'] != 0].sort_values('WnvPresent', ascending = False).head(10)"
   ]
  },
  {
   "cell_type": "code",
   "execution_count": 69,
   "metadata": {},
   "outputs": [],
   "source": [
    "test_with_nbhoods = pd.read_csv('/Users/jswithers/ga-dsi/project4-group2/assets/test_with_neighborhoods.csv')"
   ]
  },
  {
   "cell_type": "code",
   "execution_count": 70,
   "metadata": {},
   "outputs": [
    {
     "data": {
      "text/plain": [
       "0"
      ]
     },
     "execution_count": 70,
     "metadata": {},
     "output_type": "execute_result"
    }
   ],
   "source": [
    "test_with_nbhoods['neighborhood'].isna().sum()"
   ]
  },
  {
   "cell_type": "code",
   "execution_count": 71,
   "metadata": {},
   "outputs": [
    {
     "name": "stdout",
     "output_type": "stream",
     "text": [
      "Loading master train set:\n",
      "0 missing values\n",
      "(9686, 28)\n"
     ]
    }
   ],
   "source": [
    "print(\"Loading master train set:\")\n",
    "train_df = pd.read_csv('assets/master_clean_train.csv', index_col=0)\n",
    "print(train_df.isna().sum().sum(), \"missing values\")\n",
    "print(train_df.shape)"
   ]
  },
  {
   "cell_type": "code",
   "execution_count": 72,
   "metadata": {},
   "outputs": [
    {
     "name": "stdout",
     "output_type": "stream",
     "text": [
      "Loading master test set:\n",
      "0 missing values\n",
      "(116293, 27)\n"
     ]
    }
   ],
   "source": [
    "print(\"Loading master test set:\")\n",
    "test_df = pd.read_csv('assets/master_clean_test.csv', index_col=0)\n",
    "print(test_df.isna().sum().sum(), \"missing values\")\n",
    "print(test_df.shape)"
   ]
  },
  {
   "cell_type": "markdown",
   "metadata": {},
   "source": [
    "## 6. Appendix\n",
    "### At some point this dictionary groupby demonstration was the model I used for most of my feature engineering"
   ]
  },
  {
   "cell_type": "code",
   "execution_count": 73,
   "metadata": {},
   "outputs": [
    {
     "data": {
      "text/html": [
       "<div>\n",
       "<style scoped>\n",
       "    .dataframe tbody tr th:only-of-type {\n",
       "        vertical-align: middle;\n",
       "    }\n",
       "\n",
       "    .dataframe tbody tr th {\n",
       "        vertical-align: top;\n",
       "    }\n",
       "\n",
       "    .dataframe thead th {\n",
       "        text-align: right;\n",
       "    }\n",
       "</style>\n",
       "<table border=\"1\" class=\"dataframe\">\n",
       "  <thead>\n",
       "    <tr style=\"text-align: right;\">\n",
       "      <th></th>\n",
       "      <th>a</th>\n",
       "      <th>b</th>\n",
       "      <th>b_avg</th>\n",
       "    </tr>\n",
       "  </thead>\n",
       "  <tbody>\n",
       "    <tr>\n",
       "      <th>0</th>\n",
       "      <td>1</td>\n",
       "      <td>a</td>\n",
       "      <td>2</td>\n",
       "    </tr>\n",
       "    <tr>\n",
       "      <th>1</th>\n",
       "      <td>2</td>\n",
       "      <td>a</td>\n",
       "      <td>2</td>\n",
       "    </tr>\n",
       "    <tr>\n",
       "      <th>2</th>\n",
       "      <td>3</td>\n",
       "      <td>a</td>\n",
       "      <td>2</td>\n",
       "    </tr>\n",
       "    <tr>\n",
       "      <th>3</th>\n",
       "      <td>4</td>\n",
       "      <td>b</td>\n",
       "      <td>5</td>\n",
       "    </tr>\n",
       "    <tr>\n",
       "      <th>4</th>\n",
       "      <td>5</td>\n",
       "      <td>b</td>\n",
       "      <td>5</td>\n",
       "    </tr>\n",
       "    <tr>\n",
       "      <th>5</th>\n",
       "      <td>6</td>\n",
       "      <td>b</td>\n",
       "      <td>5</td>\n",
       "    </tr>\n",
       "    <tr>\n",
       "      <th>6</th>\n",
       "      <td>7</td>\n",
       "      <td>c</td>\n",
       "      <td>8</td>\n",
       "    </tr>\n",
       "    <tr>\n",
       "      <th>7</th>\n",
       "      <td>8</td>\n",
       "      <td>c</td>\n",
       "      <td>8</td>\n",
       "    </tr>\n",
       "    <tr>\n",
       "      <th>8</th>\n",
       "      <td>9</td>\n",
       "      <td>c</td>\n",
       "      <td>8</td>\n",
       "    </tr>\n",
       "  </tbody>\n",
       "</table>\n",
       "</div>"
      ],
      "text/plain": [
       "   a  b  b_avg\n",
       "0  1  a      2\n",
       "1  2  a      2\n",
       "2  3  a      2\n",
       "3  4  b      5\n",
       "4  5  b      5\n",
       "5  6  b      5\n",
       "6  7  c      8\n",
       "7  8  c      8\n",
       "8  9  c      8"
      ]
     },
     "execution_count": 73,
     "metadata": {},
     "output_type": "execute_result"
    }
   ],
   "source": [
    "t_df = pd.DataFrame({\n",
    "    'a':[1,2,3,4,5,6,7,8,9],\n",
    "    'b':['a','a','a','b','b','b','c','c','c']\n",
    "})\n",
    "\n",
    "\n",
    "t_df\n",
    "\n",
    "dict(t_df.groupby(by = 'b').a.mean())\n",
    "\n",
    "t_df['b_avg'] = t_df['b'].map(dict(t_df.groupby(by = 'b').a.mean()))\n",
    "\n",
    "t_df"
   ]
  },
  {
   "cell_type": "markdown",
   "metadata": {},
   "source": [
    "### more neighborhoods EDA\n",
    "This section generates a new .csv for some more Tableau visualization"
   ]
  },
  {
   "cell_type": "code",
   "execution_count": 74,
   "metadata": {},
   "outputs": [],
   "source": [
    "train_df = pd.read_csv('assets/train_with_neighborhoods.csv', index_col=0)"
   ]
  },
  {
   "cell_type": "code",
   "execution_count": 75,
   "metadata": {},
   "outputs": [],
   "source": [
    "def add_neighborhood_infection_column(df):\n",
    "    \"\"\"takes a dataframe with a neighborhood column and a WnvPresent column and adds a column\"\"\"\n",
    "    d = {\"O'Hare\": 'high',\n",
    "     'South Deering': 'high',\n",
    "     'Dunning': 'high',\n",
    "     'Fringe': 'high',\n",
    "     'Norwood Park': 'high',\n",
    "     'New City': 'medium',\n",
    "     'Calumet Heights': 'medium',\n",
    "     'Humboldt Park': 'medium',\n",
    "     'Sauganash,Forest Glen': 'medium',\n",
    "     'Portage Park': 'medium',\n",
    "     'Edison Park': 'medium',\n",
    "     'Belmont Cragin': 'medium',\n",
    "     'Hegewisch': 'medium',\n",
    "     'Clearing': 'medium',\n",
    "     'Little Italy, UIC': 'medium',\n",
    "     'Mount Greenwood': 'medium',\n",
    "     'Ashburn': 'medium',\n",
    "     'Beverly': 'medium',\n",
    "     'Lincoln Park': 'medium',\n",
    "     'Grand Crossing': 'medium',\n",
    "     'Archer Heights': 'medium',\n",
    "     'West Ridge': 'medium',\n",
    "     'East Side': 'medium',\n",
    "     'Morgan Park': 'medium',\n",
    "     'Irving Park': 'medium',\n",
    "     'North Park': 'medium',\n",
    "     'Chicago Lawn': 'medium',\n",
    "     'Austin': 'medium',\n",
    "     'Galewood': 'medium',\n",
    "     'Little Village': 'medium',\n",
    "     'Washington Heights': 'medium',\n",
    "     'Woodlawn': 'medium',\n",
    "     'Lincoln Square': 'medium',\n",
    "     'Auburn Gresham': 'medium',\n",
    "     'Ukrainian Village': 'medium',\n",
    "     'Burnside': 'medium',\n",
    "     'Avondale': 'medium',\n",
    "     'Englewood': 'medium',\n",
    "     'Edgewater': 'medium',\n",
    "     'Grand Boulevard': 'low',\n",
    "     'South Chicago': 'low',\n",
    "     'North Lawndale': 'low',\n",
    "     'Chatham': 'low',\n",
    "     'Wicker Park': 'low',\n",
    "     'Avalon Park': 'low',\n",
    "     'Garfield Ridge': 'low',\n",
    "     'South Shore': 'low',\n",
    "     'Riverdale': 'low',\n",
    "     'West Town': 'low',\n",
    "     'Roseland': 'low',\n",
    "     'Lake View': 'low',\n",
    "     'Pullman': 'low',\n",
    "     'Gage Park': 'low',\n",
    "     'Montclare': 'low',\n",
    "     'Mckinley Park': 'low',\n",
    "     'Loop': 'low',\n",
    "     'Rogers Park': 'none',\n",
    "     'Bridgeport': 'none',\n",
    "     'Hyde Park': 'none',\n",
    "     'Garfield Park': 'none',\n",
    "     'Streeterville': 'none',\n",
    "     'Washington Park': 'none',\n",
    "     'Lower West Side': 'none',\n",
    "     'Logan Square': 'none',\n",
    "     'Printers Row': 'none'}\n",
    "\n",
    "    df['neighborhood_infection_category'] = df['neighborhood'].map(d)\n",
    "\n",
    "    return df"
   ]
  },
  {
   "cell_type": "code",
   "execution_count": 76,
   "metadata": {},
   "outputs": [],
   "source": [
    "train_df = add_neighborhood_infection_column(train_df)"
   ]
  },
  {
   "cell_type": "code",
   "execution_count": 77,
   "metadata": {},
   "outputs": [],
   "source": [
    "train_df.to_csv('assets/train_neighborhoods_with_infection.csv')"
   ]
  }
 ],
 "metadata": {
  "kernelspec": {
   "display_name": "Python [conda root]",
   "language": "python",
   "name": "conda-root-py"
  },
  "language_info": {
   "codemirror_mode": {
    "name": "ipython",
    "version": 3
   },
   "file_extension": ".py",
   "mimetype": "text/x-python",
   "name": "python",
   "nbconvert_exporter": "python",
   "pygments_lexer": "ipython3",
   "version": "3.6.4"
  }
 },
 "nbformat": 4,
 "nbformat_minor": 2
}
